{
 "cells": [
  {
   "cell_type": "code",
   "execution_count": 1,
   "id": "bc7ad2c4",
   "metadata": {
    "_cell_guid": "b1076dfc-b9ad-4769-8c92-a6c4dae69d19",
    "_uuid": "8f2839f25d086af736a60e9eeb907d3b93b6e0e5",
    "collapsed": true,
    "execution": {
     "iopub.execute_input": "2024-04-20T18:59:09.397418Z",
     "iopub.status.busy": "2024-04-20T18:59:09.396807Z",
     "iopub.status.idle": "2024-04-20T18:59:23.945026Z",
     "shell.execute_reply": "2024-04-20T18:59:23.944010Z"
    },
    "jupyter": {
     "outputs_hidden": true
    },
    "papermill": {
     "duration": 14.565007,
     "end_time": "2024-04-20T18:59:23.954831",
     "exception": false,
     "start_time": "2024-04-20T18:59:09.389824",
     "status": "completed"
    },
    "tags": []
   },
   "outputs": [
    {
     "name": "stdout",
     "output_type": "stream",
     "text": [
      "/kaggle/input/iris-segmentation/results/results/S1209R04.png\n",
      "/kaggle/input/iris-segmentation/results/results/S1104L04.png\n",
      "/kaggle/input/iris-segmentation/results/results/S1071R06.png\n",
      "/kaggle/input/iris-segmentation/results/results/S1083L07.png\n",
      "/ ...\n",
      "/kaggle/input/iris-segmentation/data_iris/data_iris/train/S1247R03.jpg\n",
      "/kaggle/input/iris-segmentation/data_iris/data_iris/train/S1019L05.jpg\n",
      "/kaggle/input/iris-segmentation/data_iris/data_iris/train/S1042R01.jpg\n",
      "/kaggle/input/iris-segmentation/data_iris/data_iris/train/S1047L03.jpg\n",
      "/kaggle/input/iris-segmentation/data_iris/data_iris/train/S1179R02.jpg\n",
      "/kaggle/input/iris-segmentation/data_iris/data_iris/train/S1108R03.jpg\n"
     ]
    }
   ],
   "source": [
    "# This Python 3 environment comes with many helpful analytics libraries installed\n",
    "# It is defined by the kaggle/python Docker image: https://github.com/kaggle/docker-python\n",
    "# For example, here's several helpful packages to load\n",
    "\n",
    "import numpy as np # linear algebra\n",
    "import pandas as pd # data processing, CSV file I/O (e.g. pd.read_csv)\n",
    "\n",
    "# Input data files are available in the read-only \"../input/\" directory\n",
    "# For example, running this (by clicking run or pressing Shift+Enter) will list all files under the input directory\n",
    "\n",
    "import os\n",
    "for dirname, _, filenames in os.walk('/kaggle/input'):\n",
    "    for filename in filenames:\n",
    "        print(os.path.join(dirname, filename))\n",
    "\n",
    "# You can write up to 20GB to the current directory (/kaggle/working/) that gets preserved as output when you create a version using \"Save & Run All\" \n",
    "# You can also write temporary files to /kaggle/temp/, but they won't be saved outside of the current session"
   ]
  },
  {
   "cell_type": "code",
   "execution_count": 2,
   "id": "5960a37a",
   "metadata": {
    "collapsed": true,
    "execution": {
     "iopub.execute_input": "2024-04-20T18:59:23.990182Z",
     "iopub.status.busy": "2024-04-20T18:59:23.989782Z",
     "iopub.status.idle": "2024-04-20T19:00:11.365818Z",
     "shell.execute_reply": "2024-04-20T19:00:11.364704Z"
    },
    "jupyter": {
     "outputs_hidden": true
    },
    "papermill": {
     "duration": 47.394408,
     "end_time": "2024-04-20T19:00:11.368332",
     "exception": false,
     "start_time": "2024-04-20T18:59:23.973924",
     "status": "completed"
    },
    "tags": []
   },
   "outputs": [
    {
     "name": "stdout",
     "output_type": "stream",
     "text": [
      "Requirement already satisfied: torchmetrics in /opt/conda/lib/python3.10/site-packages (1.3.2)\r\n",
      "Requirement already satisfied: numpy>1.20.0 in /opt/conda/lib/python3.10/site-packages (from torchmetrics) (1.26.4)\r\n",
      "Requirement already satisfied: packaging>17.1 in /opt/conda/lib/python3.10/site-packages (from torchmetrics) (21.3)\r\n",
      "Requirement already satisfied: torch>=1.10.0 in /opt/conda/lib/python3.10/site-packages (from torchmetrics) (2.1.2)\r\n",
      "Requirement already satisfied: lightning-utilities>=0.8.0 in /opt/conda/lib/python3.10/site-packages (from torchmetrics) (0.11.2)\r\n",
      "Requirement already satisfied: setuptools in /opt/conda/lib/python3.10/site-packages (from lightning-utilities>=0.8.0->torchmetrics) (69.0.3)\r\n",
      "Requirement already satisfied: typing-extensions in /opt/conda/lib/python3.10/site-packages (from lightning-utilities>=0.8.0->torchmetrics) (4.9.0)\r\n",
      "Requirement already satisfied: pyparsing!=3.0.5,>=2.0.2 in /opt/conda/lib/python3.10/site-packages (from packaging>17.1->torchmetrics) (3.1.1)\r\n",
      "Requirement already satisfied: filelock in /opt/conda/lib/python3.10/site-packages (from torch>=1.10.0->torchmetrics) (3.13.1)\r\n",
      "Requirement already satisfied: sympy in /opt/conda/lib/python3.10/site-packages (from torch>=1.10.0->torchmetrics) (1.12)\r\n",
      "Requirement already satisfied: networkx in /opt/conda/lib/python3.10/site-packages (from torch>=1.10.0->torchmetrics) (3.2.1)\r\n",
      "Requirement already satisfied: jinja2 in /opt/conda/lib/python3.10/site-packages (from torch>=1.10.0->torchmetrics) (3.1.2)\r\n",
      "Requirement already satisfied: fsspec in /opt/conda/lib/python3.10/site-packages (from torch>=1.10.0->torchmetrics) (2024.2.0)\r\n",
      "Requirement already satisfied: MarkupSafe>=2.0 in /opt/conda/lib/python3.10/site-packages (from jinja2->torch>=1.10.0->torchmetrics) (2.1.3)\r\n",
      "Requirement already satisfied: mpmath>=0.19 in /opt/conda/lib/python3.10/site-packages (from sympy->torch>=1.10.0->torchmetrics) (1.3.0)\r\n",
      "Collecting segmentation_models_pytorch\r\n",
      "  Downloading segmentation_models_pytorch-0.3.3-py3-none-any.whl.metadata (30 kB)\r\n",
      "Requirement already satisfied: torchvision>=0.5.0 in /opt/conda/lib/python3.10/site-packages (from segmentation_models_pytorch) (0.16.2)\r\n",
      "Collecting pretrainedmodels==0.7.4 (from segmentation_models_pytorch)\r\n",
      "  Downloading pretrainedmodels-0.7.4.tar.gz (58 kB)\r\n",
      "\u001b[2K     \u001b[90m━━━━━━━━━━━━━━━━━━━━━━━━━━━━━━━━━━━━━━━\u001b[0m \u001b[32m58.8/58.8 kB\u001b[0m \u001b[31m800.5 kB/s\u001b[0m eta \u001b[36m0:00:00\u001b[0m\r\n",
      "\u001b[?25h  Preparing metadata (setup.py) ... \u001b[?25l-\b \b\\\b \bdone\r\n",
      "\u001b[?25hCollecting efficientnet-pytorch==0.7.1 (from segmentation_models_pytorch)\r\n",
      "  Downloading efficientnet_pytorch-0.7.1.tar.gz (21 kB)\r\n",
      "  Preparing metadata (setup.py) ... \u001b[?25l-\b \bdone\r\n",
      "\u001b[?25hCollecting timm==0.9.2 (from segmentation_models_pytorch)\r\n",
      "  Downloading timm-0.9.2-py3-none-any.whl.metadata (68 kB)\r\n",
      "\u001b[2K     \u001b[90m━━━━━━━━━━━━━━━━━━━━━━━━━━━━━━━━━━━━━━━━\u001b[0m \u001b[32m68.5/68.5 kB\u001b[0m \u001b[31m2.0 MB/s\u001b[0m eta \u001b[36m0:00:00\u001b[0m\r\n",
      "\u001b[?25hRequirement already satisfied: tqdm in /opt/conda/lib/python3.10/site-packages (from segmentation_models_pytorch) (4.66.1)\r\n",
      "Requirement already satisfied: pillow in /opt/conda/lib/python3.10/site-packages (from segmentation_models_pytorch) (9.5.0)\r\n",
      "Requirement already satisfied: torch in /opt/conda/lib/python3.10/site-packages (from efficientnet-pytorch==0.7.1->segmentation_models_pytorch) (2.1.2)\r\n",
      "Collecting munch (from pretrainedmodels==0.7.4->segmentation_models_pytorch)\r\n",
      "  Downloading munch-4.0.0-py2.py3-none-any.whl.metadata (5.9 kB)\r\n",
      "Requirement already satisfied: pyyaml in /opt/conda/lib/python3.10/site-packages (from timm==0.9.2->segmentation_models_pytorch) (6.0.1)\r\n",
      "Requirement already satisfied: huggingface-hub in /opt/conda/lib/python3.10/site-packages (from timm==0.9.2->segmentation_models_pytorch) (0.22.2)\r\n",
      "Requirement already satisfied: safetensors in /opt/conda/lib/python3.10/site-packages (from timm==0.9.2->segmentation_models_pytorch) (0.4.3)\r\n",
      "Requirement already satisfied: numpy in /opt/conda/lib/python3.10/site-packages (from torchvision>=0.5.0->segmentation_models_pytorch) (1.26.4)\r\n",
      "Requirement already satisfied: requests in /opt/conda/lib/python3.10/site-packages (from torchvision>=0.5.0->segmentation_models_pytorch) (2.31.0)\r\n",
      "Requirement already satisfied: filelock in /opt/conda/lib/python3.10/site-packages (from torch->efficientnet-pytorch==0.7.1->segmentation_models_pytorch) (3.13.1)\r\n",
      "Requirement already satisfied: typing-extensions in /opt/conda/lib/python3.10/site-packages (from torch->efficientnet-pytorch==0.7.1->segmentation_models_pytorch) (4.9.0)\r\n",
      "Requirement already satisfied: sympy in /opt/conda/lib/python3.10/site-packages (from torch->efficientnet-pytorch==0.7.1->segmentation_models_pytorch) (1.12)\r\n",
      "Requirement already satisfied: networkx in /opt/conda/lib/python3.10/site-packages (from torch->efficientnet-pytorch==0.7.1->segmentation_models_pytorch) (3.2.1)\r\n",
      "Requirement already satisfied: jinja2 in /opt/conda/lib/python3.10/site-packages (from torch->efficientnet-pytorch==0.7.1->segmentation_models_pytorch) (3.1.2)\r\n",
      "Requirement already satisfied: fsspec in /opt/conda/lib/python3.10/site-packages (from torch->efficientnet-pytorch==0.7.1->segmentation_models_pytorch) (2024.2.0)\r\n",
      "Requirement already satisfied: packaging>=20.9 in /opt/conda/lib/python3.10/site-packages (from huggingface-hub->timm==0.9.2->segmentation_models_pytorch) (21.3)\r\n",
      "Requirement already satisfied: charset-normalizer<4,>=2 in /opt/conda/lib/python3.10/site-packages (from requests->torchvision>=0.5.0->segmentation_models_pytorch) (3.3.2)\r\n",
      "Requirement already satisfied: idna<4,>=2.5 in /opt/conda/lib/python3.10/site-packages (from requests->torchvision>=0.5.0->segmentation_models_pytorch) (3.6)\r\n",
      "Requirement already satisfied: urllib3<3,>=1.21.1 in /opt/conda/lib/python3.10/site-packages (from requests->torchvision>=0.5.0->segmentation_models_pytorch) (1.26.18)\r\n",
      "Requirement already satisfied: certifi>=2017.4.17 in /opt/conda/lib/python3.10/site-packages (from requests->torchvision>=0.5.0->segmentation_models_pytorch) (2024.2.2)\r\n",
      "Requirement already satisfied: pyparsing!=3.0.5,>=2.0.2 in /opt/conda/lib/python3.10/site-packages (from packaging>=20.9->huggingface-hub->timm==0.9.2->segmentation_models_pytorch) (3.1.1)\r\n",
      "Requirement already satisfied: MarkupSafe>=2.0 in /opt/conda/lib/python3.10/site-packages (from jinja2->torch->efficientnet-pytorch==0.7.1->segmentation_models_pytorch) (2.1.3)\r\n",
      "Requirement already satisfied: mpmath>=0.19 in /opt/conda/lib/python3.10/site-packages (from sympy->torch->efficientnet-pytorch==0.7.1->segmentation_models_pytorch) (1.3.0)\r\n",
      "Downloading segmentation_models_pytorch-0.3.3-py3-none-any.whl (106 kB)\r\n",
      "\u001b[2K   \u001b[90m━━━━━━━━━━━━━━━━━━━━━━━━━━━━━━━━━━━━━━━━\u001b[0m \u001b[32m106.7/106.7 kB\u001b[0m \u001b[31m3.5 MB/s\u001b[0m eta \u001b[36m0:00:00\u001b[0m\r\n",
      "\u001b[?25hDownloading timm-0.9.2-py3-none-any.whl (2.2 MB)\r\n",
      "\u001b[2K   \u001b[90m━━━━━━━━━━━━━━━━━━━━━━━━━━━━━━━━━━━━━━━━\u001b[0m \u001b[32m2.2/2.2 MB\u001b[0m \u001b[31m13.7 MB/s\u001b[0m eta \u001b[36m0:00:00\u001b[0m\r\n",
      "\u001b[?25hDownloading munch-4.0.0-py2.py3-none-any.whl (9.9 kB)\r\n",
      "Building wheels for collected packages: efficientnet-pytorch, pretrainedmodels\r\n",
      "  Building wheel for efficientnet-pytorch (setup.py) ... \u001b[?25l-\b \bdone\r\n",
      "\u001b[?25h  Created wheel for efficientnet-pytorch: filename=efficientnet_pytorch-0.7.1-py3-none-any.whl size=16428 sha256=490690bae397f0078869f757a23c2ab5e3429118f6f3651c5785a52d3bdf18a8\r\n",
      "  Stored in directory: /root/.cache/pip/wheels/03/3f/e9/911b1bc46869644912bda90a56bcf7b960f20b5187feea3baf\r\n",
      "  Building wheel for pretrainedmodels (setup.py) ... \u001b[?25l-\b \b\\\b \b|\b \bdone\r\n",
      "\u001b[?25h  Created wheel for pretrainedmodels: filename=pretrainedmodels-0.7.4-py3-none-any.whl size=60945 sha256=9cc6f19550b349ad288c1afc3cd72fe78d0ec71504577a36565e2427706650d0\r\n",
      "  Stored in directory: /root/.cache/pip/wheels/35/cb/a5/8f534c60142835bfc889f9a482e4a67e0b817032d9c6883b64\r\n",
      "Successfully built efficientnet-pytorch pretrainedmodels\r\n",
      "Installing collected packages: munch, efficientnet-pytorch, timm, pretrainedmodels, segmentation_models_pytorch\r\n",
      "  Attempting uninstall: timm\r\n",
      "    Found existing installation: timm 0.9.16\r\n",
      "    Uninstalling timm-0.9.16:\r\n",
      "      Successfully uninstalled timm-0.9.16\r\n",
      "Successfully installed efficientnet-pytorch-0.7.1 munch-4.0.0 pretrainedmodels-0.7.4 segmentation_models_pytorch-0.3.3 timm-0.9.2\r\n",
      "Requirement already satisfied: albumentations in /opt/conda/lib/python3.10/site-packages (1.4.0)\r\n",
      "Requirement already satisfied: numpy>=1.24.4 in /opt/conda/lib/python3.10/site-packages (from albumentations) (1.26.4)\r\n",
      "Requirement already satisfied: scipy>=1.10.0 in /opt/conda/lib/python3.10/site-packages (from albumentations) (1.11.4)\r\n",
      "Requirement already satisfied: scikit-image>=0.21.0 in /opt/conda/lib/python3.10/site-packages (from albumentations) (0.22.0)\r\n",
      "Requirement already satisfied: PyYAML in /opt/conda/lib/python3.10/site-packages (from albumentations) (6.0.1)\r\n",
      "Requirement already satisfied: qudida>=0.0.4 in /opt/conda/lib/python3.10/site-packages (from albumentations) (0.0.4)\r\n",
      "Requirement already satisfied: opencv-python>=4.9.0 in /opt/conda/lib/python3.10/site-packages (from albumentations) (4.9.0.80)\r\n",
      "Requirement already satisfied: scikit-learn>=0.19.1 in /opt/conda/lib/python3.10/site-packages (from qudida>=0.0.4->albumentations) (1.2.2)\r\n",
      "Requirement already satisfied: typing-extensions in /opt/conda/lib/python3.10/site-packages (from qudida>=0.0.4->albumentations) (4.9.0)\r\n",
      "Requirement already satisfied: opencv-python-headless>=4.0.1 in /opt/conda/lib/python3.10/site-packages (from qudida>=0.0.4->albumentations) (4.9.0.80)\r\n",
      "Requirement already satisfied: networkx>=2.8 in /opt/conda/lib/python3.10/site-packages (from scikit-image>=0.21.0->albumentations) (3.2.1)\r\n",
      "Requirement already satisfied: pillow>=9.0.1 in /opt/conda/lib/python3.10/site-packages (from scikit-image>=0.21.0->albumentations) (9.5.0)\r\n",
      "Requirement already satisfied: imageio>=2.27 in /opt/conda/lib/python3.10/site-packages (from scikit-image>=0.21.0->albumentations) (2.33.1)\r\n",
      "Requirement already satisfied: tifffile>=2022.8.12 in /opt/conda/lib/python3.10/site-packages (from scikit-image>=0.21.0->albumentations) (2023.12.9)\r\n",
      "Requirement already satisfied: packaging>=21 in /opt/conda/lib/python3.10/site-packages (from scikit-image>=0.21.0->albumentations) (21.3)\r\n",
      "Requirement already satisfied: lazy_loader>=0.3 in /opt/conda/lib/python3.10/site-packages (from scikit-image>=0.21.0->albumentations) (0.3)\r\n",
      "Requirement already satisfied: pyparsing!=3.0.5,>=2.0.2 in /opt/conda/lib/python3.10/site-packages (from packaging>=21->scikit-image>=0.21.0->albumentations) (3.1.1)\r\n",
      "Requirement already satisfied: joblib>=1.1.1 in /opt/conda/lib/python3.10/site-packages (from scikit-learn>=0.19.1->qudida>=0.0.4->albumentations) (1.4.0)\r\n",
      "Requirement already satisfied: threadpoolctl>=2.0.0 in /opt/conda/lib/python3.10/site-packages (from scikit-learn>=0.19.1->qudida>=0.0.4->albumentations) (3.2.0)\r\n"
     ]
    }
   ],
   "source": [
    "!pip install torchmetrics\n",
    "!pip install segmentation_models_pytorch\n",
    "!pip install albumentations"
   ]
  },
  {
   "cell_type": "code",
   "execution_count": 3,
   "id": "ca2ff3bf",
   "metadata": {
    "execution": {
     "iopub.execute_input": "2024-04-20T19:00:11.408249Z",
     "iopub.status.busy": "2024-04-20T19:00:11.407915Z",
     "iopub.status.idle": "2024-04-20T19:00:31.271732Z",
     "shell.execute_reply": "2024-04-20T19:00:31.270848Z"
    },
    "papermill": {
     "duration": 19.886134,
     "end_time": "2024-04-20T19:00:31.274243",
     "exception": false,
     "start_time": "2024-04-20T19:00:11.388109",
     "status": "completed"
    },
    "tags": []
   },
   "outputs": [],
   "source": [
    "import numpy as np\n",
    "import cv2\n",
    "import matplotlib.pyplot as plt\n",
    "import torch\n",
    "import torch.nn as nn\n",
    "from torch.utils.data import Dataset, DataLoader\n",
    "import torchmetrics\n",
    "from torchmetrics import Dice, JaccardIndex\n",
    "import segmentation_models_pytorch as smp\n",
    "import albumentations as A\n",
    "from albumentations.pytorch import ToTensorV2 # np.array -> torch.tensor\n",
    "import os\n",
    "from tqdm import tqdm\n",
    "from glob import glob"
   ]
  },
  {
   "cell_type": "code",
   "execution_count": 4,
   "id": "be275ce9",
   "metadata": {
    "execution": {
     "iopub.execute_input": "2024-04-20T19:00:31.314618Z",
     "iopub.status.busy": "2024-04-20T19:00:31.313830Z",
     "iopub.status.idle": "2024-04-20T19:00:31.318535Z",
     "shell.execute_reply": "2024-04-20T19:00:31.317665Z"
    },
    "papermill": {
     "duration": 0.027221,
     "end_time": "2024-04-20T19:00:31.321159",
     "exception": false,
     "start_time": "2024-04-20T19:00:31.293938",
     "status": "completed"
    },
    "tags": []
   },
   "outputs": [
    {
     "name": "stdout",
     "output_type": "stream",
     "text": [
      "1.4.0\n"
     ]
    }
   ],
   "source": [
    "print(A.__version__)"
   ]
  },
  {
   "cell_type": "code",
   "execution_count": 5,
   "id": "4e2dbf91",
   "metadata": {
    "execution": {
     "iopub.execute_input": "2024-04-20T19:00:31.360552Z",
     "iopub.status.busy": "2024-04-20T19:00:31.360279Z",
     "iopub.status.idle": "2024-04-20T19:00:31.370647Z",
     "shell.execute_reply": "2024-04-20T19:00:31.369843Z"
    },
    "papermill": {
     "duration": 0.032208,
     "end_time": "2024-04-20T19:00:31.372539",
     "exception": false,
     "start_time": "2024-04-20T19:00:31.340331",
     "status": "completed"
    },
    "tags": []
   },
   "outputs": [],
   "source": [
    "class IrisDataset(Dataset):\n",
    "    def __init__(self, root_dir, ROI_input, results, transform=None):\n",
    "        self.root_dir = root_dir\n",
    "        self.ROI_input = ROI_input\n",
    "        self.results = results\n",
    "        self.transform = transform\n",
    "        self.img_path_lst = []\n",
    "        # Lấy danh sách các tệp hình ảnh từ thư mục ROI_input\n",
    "        img_files = [f for f in os.listdir(self.ROI_input) if f.endswith(\".jpg\")]\n",
    "        for filename in img_files:\n",
    "            self.img_path_lst.append(filename)  # Thêm tên file vào danh sách\n",
    "\n",
    "    def __len__(self):\n",
    "        return len(self.img_path_lst)\n",
    "\n",
    "    def __getitem__(self, idx):\n",
    "        # Xây dựng đường dẫn đầy đủ đến hình ảnh và mặt nạ\n",
    "        image_path = os.path.join(self.ROI_input, self.img_path_lst[idx])\n",
    "        mask_path = os.path.join(self.results, self.img_path_lst[idx].replace(\".jpg\", \".png\"))\n",
    "\n",
    "        # Đọc hình ảnh và mặt nạ từ đường dẫn\n",
    "        image = cv2.imread(image_path)\n",
    "        image = cv2.cvtColor(image, cv2.COLOR_BGR2RGB)\n",
    "        mask = cv2.imread(mask_path, cv2.IMREAD_GRAYSCALE)\n",
    "\n",
    "        if mask is None:  # Kiểm tra xem mask có bị None hay không\n",
    "          mask = np.zeros_like(image[..., 0])  # Tạo mặt nạ trống\n",
    "        else:\n",
    "          mask = mask.astype('uint8')  # Chuyển đổi kiểu dữ liệu sang uint8\n",
    "\n",
    "        # Chuyển các giá trị mặt nạ 255 thành 1\n",
    "        mask[mask >= 200] = 1\n",
    "\n",
    "        # Áp dụng biến đổi nếu có\n",
    "        if self.transform is not None:\n",
    "            transformed = self.transform(image=image, mask=mask)\n",
    "            transformed_image = transformed['image']\n",
    "            transformed_mask = transformed['mask']\n",
    "            return transformed_image, transformed_mask\n",
    "        else:\n",
    "            return image, mask"
   ]
  },
  {
   "cell_type": "code",
   "execution_count": 6,
   "id": "b66fbf40",
   "metadata": {
    "execution": {
     "iopub.execute_input": "2024-04-20T19:00:31.411089Z",
     "iopub.status.busy": "2024-04-20T19:00:31.410795Z",
     "iopub.status.idle": "2024-04-20T19:00:31.417466Z",
     "shell.execute_reply": "2024-04-20T19:00:31.416661Z"
    },
    "papermill": {
     "duration": 0.028232,
     "end_time": "2024-04-20T19:00:31.419243",
     "exception": false,
     "start_time": "2024-04-20T19:00:31.391011",
     "status": "completed"
    },
    "tags": []
   },
   "outputs": [],
   "source": [
    "trainsize = 384\n",
    "\n",
    "train_transform = A.Compose([\n",
    "    A.Resize(width=trainsize, height=trainsize),\n",
    "    A.HorizontalFlip(),\n",
    "    A.RandomBrightnessContrast(),\n",
    "    A.Blur(),\n",
    "    A.Sharpen(),\n",
    "    A.Normalize(mean=(0.485, 0.456, 0.406), std=(0.229, 0.224, 0.225), max_pixel_value=255.0),\n",
    "    ToTensorV2(),\n",
    "])\n",
    "\n",
    "test_trainsform = A.Compose([\n",
    "    A.Resize(width=trainsize, height=trainsize),\n",
    "    A.Normalize(mean=(0.485, 0.456, 0.406), std=(0.229, 0.224, 0.225), max_pixel_value=255.0),\n",
    "    ToTensorV2(), # numpy.array -> torch.tensor (B, 3, H, W)\n",
    "])"
   ]
  },
  {
   "cell_type": "code",
   "execution_count": 7,
   "id": "364b201f",
   "metadata": {
    "execution": {
     "iopub.execute_input": "2024-04-20T19:00:31.458484Z",
     "iopub.status.busy": "2024-04-20T19:00:31.457608Z",
     "iopub.status.idle": "2024-04-20T19:00:31.463640Z",
     "shell.execute_reply": "2024-04-20T19:00:31.462891Z"
    },
    "papermill": {
     "duration": 0.027658,
     "end_time": "2024-04-20T19:00:31.465575",
     "exception": false,
     "start_time": "2024-04-20T19:00:31.437917",
     "status": "completed"
    },
    "tags": []
   },
   "outputs": [],
   "source": [
    "class UnNormalize(object):\n",
    "    def __init__(self, mean, std):\n",
    "        self.mean = mean\n",
    "        self.std = std\n",
    "\n",
    "    def __call__(self, tensor):\n",
    "        \"\"\"\n",
    "        Args:\n",
    "            tensor (Tensor): Tensor image of size (C, H, W) to be normalized.\n",
    "        Returns:\n",
    "            Tensor: Normalized image.\n",
    "        \"\"\"\n",
    "        for t, m, s in zip(tensor, self.mean, self.std):\n",
    "            t.mul_(s).add_(m)\n",
    "            # The normalize code -> t.sub_(m).div_(s)\n",
    "        return tensor\n",
    "\n",
    "unorm = UnNormalize(mean=(0.485, 0.456, 0.406), std=(0.229, 0.224, 0.225))"
   ]
  },
  {
   "cell_type": "code",
   "execution_count": 8,
   "id": "7cff6f59",
   "metadata": {
    "execution": {
     "iopub.execute_input": "2024-04-20T19:00:31.504657Z",
     "iopub.status.busy": "2024-04-20T19:00:31.504384Z",
     "iopub.status.idle": "2024-04-20T19:00:31.518148Z",
     "shell.execute_reply": "2024-04-20T19:00:31.517152Z"
    },
    "papermill": {
     "duration": 0.036198,
     "end_time": "2024-04-20T19:00:31.520269",
     "exception": false,
     "start_time": "2024-04-20T19:00:31.484071",
     "status": "completed"
    },
    "tags": []
   },
   "outputs": [],
   "source": [
    " train_dataset = IrisDataset(\"/kaggle/input/iris-segmentation\", \"/kaggle/input/iris-segmentation/data_iris/data_iris/train\", \"/kaggle/input/iris-segmentation/results/results\", train_transform)\n",
    " test_dataset =  IrisDataset(\"/kaggle/input/iris-segmentation\", \"/kaggle/input/iris-segmentation/data_iris/data_iris/test\", \"/kaggle/input/iris-segmentation/results/results\", test_trainsform)\n",
    "# image, mask = train_dataset.__getitem__(10)\n",
    "# plt.subplot(1, 2, 1)\n",
    "# plt.imshow(unorm(image).permute(1, 2, 0))\n",
    "# plt.subplot(1, 2, 2)\n",
    "# plt.imshow(mask)\n",
    "# plt.show"
   ]
  },
  {
   "cell_type": "code",
   "execution_count": 9,
   "id": "1cdea78e",
   "metadata": {
    "execution": {
     "iopub.execute_input": "2024-04-20T19:00:31.560103Z",
     "iopub.status.busy": "2024-04-20T19:00:31.559849Z",
     "iopub.status.idle": "2024-04-20T19:00:31.572475Z",
     "shell.execute_reply": "2024-04-20T19:00:31.571604Z"
    },
    "papermill": {
     "duration": 0.0351,
     "end_time": "2024-04-20T19:00:31.574398",
     "exception": false,
     "start_time": "2024-04-20T19:00:31.539298",
     "status": "completed"
    },
    "tags": []
   },
   "outputs": [],
   "source": [
    "#model UNet\n",
    "def unet_block(in_channels, out_channels):\n",
    "    return nn.Sequential(\n",
    "        nn.Conv2d(in_channels, out_channels, 3, 1, 1),\n",
    "        nn.ReLU(),\n",
    "        nn.Conv2d(out_channels, out_channels, 3, 1, 1),\n",
    "        nn.ReLU()\n",
    "    )\n",
    "\n",
    "class UNet(nn.Module):\n",
    "    def __init__(self, n_classes):\n",
    "        super().__init__()\n",
    "        self.n_classes = n_classes\n",
    "        self.downsample = nn.MaxPool2d(2)\n",
    "        self.upsample = nn.Upsample(scale_factor=2, mode=\"bilinear\")\n",
    "        self.block_down1 = unet_block(3, 64)\n",
    "        self.block_down2 = unet_block(64, 128)\n",
    "        self.block_down3 = unet_block(128, 256)\n",
    "        self.block_down4 = unet_block(256, 512)\n",
    "        self.block_neck = unet_block(512, 1024)\n",
    "        self.block_up1 = unet_block(1024+512, 512)\n",
    "        self.block_up2 = unet_block(256+512, 256)\n",
    "        self.block_up3 = unet_block(128+256, 128)\n",
    "        self.block_up4 = unet_block(128+64, 64)\n",
    "        self.conv_cls = nn.Conv2d(64, self.n_classes, 1) # -> (B, n_class, H, W)\n",
    "\n",
    "    def forward(self, x):\n",
    "        # (B, C, H, W)\n",
    "        x1 = self.block_down1(x)\n",
    "        x = self.downsample(x1)\n",
    "        x2 = self.block_down2(x)\n",
    "        x = self.downsample(x2)\n",
    "        x3 = self.block_down3(x)\n",
    "        x = self.downsample(x3)\n",
    "        x4 = self.block_down4(x)\n",
    "        x = self.downsample(x4)\n",
    "\n",
    "        x = self.block_neck(x)\n",
    "\n",
    "        x = torch.cat([x4, self.upsample(x)], dim=1)\n",
    "        x = self.block_up1(x)\n",
    "        x = torch.cat([x3, self.upsample(x)], dim=1)\n",
    "        x = self.block_up2(x)\n",
    "        x = torch.cat([x2, self.upsample(x)], dim=1)\n",
    "        x = self.block_up3(x)\n",
    "        x = torch.cat([x1, self.upsample(x)], dim=1)\n",
    "        x = self.block_up4(x)\n",
    "\n",
    "        x = self.conv_cls(x)\n",
    "        return x\n",
    "\n",
    "# model = UNet(1)\n",
    "# x = torch.rand(4, 3, trainsize, trainsize)\n",
    "# print(\"Input shape =\", x.shape)\n",
    "# y = model(x).squeeze()\n",
    "# print(\"Output shape = \", y.shape)\n",
    "# # y true (4, 384, 384)\n",
    "# # y hat.squeeze() (4, 1, 384, 384) -> (4, 384, 384)"
   ]
  },
  {
   "cell_type": "code",
   "execution_count": 10,
   "id": "9f260ef9",
   "metadata": {
    "execution": {
     "iopub.execute_input": "2024-04-20T19:00:31.614080Z",
     "iopub.status.busy": "2024-04-20T19:00:31.613531Z",
     "iopub.status.idle": "2024-04-20T19:00:31.619076Z",
     "shell.execute_reply": "2024-04-20T19:00:31.618223Z"
    },
    "papermill": {
     "duration": 0.027054,
     "end_time": "2024-04-20T19:00:31.620901",
     "exception": false,
     "start_time": "2024-04-20T19:00:31.593847",
     "status": "completed"
    },
    "tags": []
   },
   "outputs": [],
   "source": [
    "class AverageMeter(object):\n",
    "    def __init__(self):\n",
    "        self.reset()\n",
    "\n",
    "    def reset(self):\n",
    "        self.val = 0\n",
    "        self.avg = 0\n",
    "        self.sum = 0\n",
    "        self.count = 0\n",
    "\n",
    "    def update(self, val, n=1):\n",
    "        self.val = val\n",
    "        self.sum += val * n\n",
    "        self.count += n\n",
    "        self.avg = self.sum / self.count"
   ]
  },
  {
   "cell_type": "code",
   "execution_count": 11,
   "id": "82aac9ac",
   "metadata": {
    "execution": {
     "iopub.execute_input": "2024-04-20T19:00:31.658845Z",
     "iopub.status.busy": "2024-04-20T19:00:31.658591Z",
     "iopub.status.idle": "2024-04-20T19:00:31.663059Z",
     "shell.execute_reply": "2024-04-20T19:00:31.662240Z"
    },
    "papermill": {
     "duration": 0.025522,
     "end_time": "2024-04-20T19:00:31.664926",
     "exception": false,
     "start_time": "2024-04-20T19:00:31.639404",
     "status": "completed"
    },
    "tags": []
   },
   "outputs": [],
   "source": [
    "#accuracy fn\n",
    "def accuracy_function(preds, targets):\n",
    "    preds_flat = preds.flatten()\n",
    "    targets_flat = targets.flatten()\n",
    "    acc = torch.sum(preds_flat == targets_flat)\n",
    "    return acc/targets_flat.shape[0]"
   ]
  },
  {
   "cell_type": "code",
   "execution_count": 12,
   "id": "0adbbd81",
   "metadata": {
    "execution": {
     "iopub.execute_input": "2024-04-20T19:00:31.702379Z",
     "iopub.status.busy": "2024-04-20T19:00:31.701937Z",
     "iopub.status.idle": "2024-04-20T19:00:32.347671Z",
     "shell.execute_reply": "2024-04-20T19:00:32.346862Z"
    },
    "papermill": {
     "duration": 0.667025,
     "end_time": "2024-04-20T19:00:32.350088",
     "exception": false,
     "start_time": "2024-04-20T19:00:31.683063",
     "status": "completed"
    },
    "tags": []
   },
   "outputs": [
    {
     "name": "stdout",
     "output_type": "stream",
     "text": [
      "num_workers = 4\n"
     ]
    }
   ],
   "source": [
    "#device\n",
    "device = torch.device(\"cuda\" if torch.cuda.is_available() else \"cpu\")\n",
    "\n",
    "#load data\n",
    "batch_size = 8\n",
    "n_workers = os.cpu_count()\n",
    "print(\"num_workers =\", n_workers)\n",
    "trainloader = torch.utils.data.DataLoader(train_dataset, batch_size=batch_size,\n",
    "                                          shuffle=True, num_workers=n_workers)\n",
    "testloader = torch.utils.data.DataLoader(test_dataset, batch_size=batch_size,\n",
    "                                          shuffle=False, num_workers=n_workers)\n",
    "\n",
    "#model\n",
    "model = UNet(1).to(device)\n",
    "\n",
    "#loss\n",
    "criterion = nn.BCEWithLogitsLoss()\n",
    "\n",
    "#optimizer\n",
    "optimizer = torch.optim.Adam(model.parameters(), lr=1e-4)\n",
    "n_eps = 100\n",
    "\n",
    "#metrics\n",
    "dice_fn = torchmetrics.Dice(num_classes=2, average=\"macro\").to(device)\n",
    "iou_fn = torchmetrics.JaccardIndex(num_classes=2, task=\"binary\", average=\"macro\").to(device)\n",
    "\n",
    "#meter\n",
    "acc_meter = AverageMeter()\n",
    "train_loss_meter = AverageMeter()\n",
    "dice_meter = AverageMeter()\n",
    "iou_meter = AverageMeter()"
   ]
  },
  {
   "cell_type": "code",
   "execution_count": 13,
   "id": "5d9087e7",
   "metadata": {
    "execution": {
     "iopub.execute_input": "2024-04-20T19:00:32.390209Z",
     "iopub.status.busy": "2024-04-20T19:00:32.389868Z",
     "iopub.status.idle": "2024-04-20T20:16:40.989069Z",
     "shell.execute_reply": "2024-04-20T20:16:40.987887Z"
    },
    "papermill": {
     "duration": 4568.62168,
     "end_time": "2024-04-20T20:16:40.991283",
     "exception": false,
     "start_time": "2024-04-20T19:00:32.369603",
     "status": "completed"
    },
    "tags": []
   },
   "outputs": [
    {
     "name": "stdout",
     "output_type": "stream",
     "text": [
      "Let's use 2 GPUs!\n"
     ]
    },
    {
     "name": "stderr",
     "output_type": "stream",
     "text": [
      "100%|██████████| 264/264 [02:33<00:00,  1.72it/s]\n"
     ]
    },
    {
     "name": "stdout",
     "output_type": "stream",
     "text": [
      "EP 1, train loss = 0.4329407850467729, accuracy = 0.7786560421650505, IoU = 0.31821615625286426, dice = 0.63038333611425\n"
     ]
    },
    {
     "name": "stderr",
     "output_type": "stream",
     "text": [
      "100%|██████████| 264/264 [02:34<00:00,  1.71it/s]\n"
     ]
    },
    {
     "name": "stdout",
     "output_type": "stream",
     "text": [
      "EP 2, train loss = 0.1018923567625671, accuracy = 0.9597162104422047, IoU = 0.8654267936096698, dice = 0.9496132533509546\n"
     ]
    },
    {
     "name": "stderr",
     "output_type": "stream",
     "text": [
      "100%|██████████| 264/264 [02:34<00:00,  1.71it/s]\n"
     ]
    },
    {
     "name": "stdout",
     "output_type": "stream",
     "text": [
      "EP 3, train loss = 0.06365000886358392, accuracy = 0.9750841539317788, IoU = 0.9147953086831312, dice = 0.9690235622467533\n"
     ]
    },
    {
     "name": "stderr",
     "output_type": "stream",
     "text": [
      "100%|██████████| 264/264 [02:33<00:00,  1.72it/s]\n"
     ]
    },
    {
     "name": "stdout",
     "output_type": "stream",
     "text": [
      "EP 4, train loss = 0.05037244610785307, accuracy = 0.9804808169433695, IoU = 0.9326775879289891, dice = 0.9757735807257766\n"
     ]
    },
    {
     "name": "stderr",
     "output_type": "stream",
     "text": [
      "100%|██████████| 264/264 [02:33<00:00,  1.72it/s]\n"
     ]
    },
    {
     "name": "stdout",
     "output_type": "stream",
     "text": [
      "EP 5, train loss = 0.04712698839788645, accuracy = 0.981502171938062, IoU = 0.9360817101920126, dice = 0.9770369099937308\n"
     ]
    },
    {
     "name": "stderr",
     "output_type": "stream",
     "text": [
      "100%|██████████| 264/264 [02:33<00:00,  1.73it/s]\n"
     ]
    },
    {
     "name": "stdout",
     "output_type": "stream",
     "text": [
      "EP 6, train loss = 0.04443845157803123, accuracy = 0.9825754892893941, IoU = 0.9396417716648818, dice = 0.9783588797136774\n"
     ]
    },
    {
     "name": "stderr",
     "output_type": "stream",
     "text": [
      "100%|██████████| 264/264 [02:32<00:00,  1.73it/s]\n"
     ]
    },
    {
     "name": "stdout",
     "output_type": "stream",
     "text": [
      "EP 7, train loss = 0.04288282490687081, accuracy = 0.9832576923849913, IoU = 0.9419653864694049, dice = 0.9792130088444226\n"
     ]
    },
    {
     "name": "stderr",
     "output_type": "stream",
     "text": [
      "100%|██████████| 264/264 [02:32<00:00,  1.73it/s]\n"
     ]
    },
    {
     "name": "stdout",
     "output_type": "stream",
     "text": [
      "EP 8, train loss = 0.04614939930825804, accuracy = 0.9818873671245756, IoU = 0.9375148360145612, dice = 0.9775385294512507\n"
     ]
    },
    {
     "name": "stderr",
     "output_type": "stream",
     "text": [
      "100%|██████████| 264/264 [02:32<00:00,  1.73it/s]\n"
     ]
    },
    {
     "name": "stdout",
     "output_type": "stream",
     "text": [
      "EP 9, train loss = 0.04161312739299416, accuracy = 0.983533839460116, IoU = 0.9429830321777025, dice = 0.9795779749835918\n"
     ]
    },
    {
     "name": "stderr",
     "output_type": "stream",
     "text": [
      "100%|██████████| 264/264 [02:32<00:00,  1.73it/s]\n"
     ]
    },
    {
     "name": "stdout",
     "output_type": "stream",
     "text": [
      "EP 10, train loss = 0.04081598728668984, accuracy = 0.983996756728279, IoU = 0.9445160881844146, dice = 0.9801478076026381\n"
     ]
    },
    {
     "name": "stderr",
     "output_type": "stream",
     "text": [
      "100%|██████████| 264/264 [02:32<00:00,  1.74it/s]\n"
     ]
    },
    {
     "name": "stdout",
     "output_type": "stream",
     "text": [
      "EP 11, train loss = 0.040074568227696915, accuracy = 0.9841171974701493, IoU = 0.9448942234439235, dice = 0.9802888895347855\n"
     ]
    },
    {
     "name": "stderr",
     "output_type": "stream",
     "text": [
      "100%|██████████| 264/264 [02:32<00:00,  1.74it/s]\n"
     ]
    },
    {
     "name": "stdout",
     "output_type": "stream",
     "text": [
      "EP 12, train loss = 0.039474013323349565, accuracy = 0.9844246097262489, IoU = 0.945985622039556, dice = 0.980682200566641\n"
     ]
    },
    {
     "name": "stderr",
     "output_type": "stream",
     "text": [
      "100%|██████████| 264/264 [02:32<00:00,  1.74it/s]\n"
     ]
    },
    {
     "name": "stdout",
     "output_type": "stream",
     "text": [
      "EP 13, train loss = 0.03943368034751863, accuracy = 0.9843742779581551, IoU = 0.9457364432951983, dice = 0.9805984320631516\n"
     ]
    },
    {
     "name": "stderr",
     "output_type": "stream",
     "text": [
      "100%|██████████| 264/264 [02:31<00:00,  1.74it/s]\n"
     ]
    },
    {
     "name": "stdout",
     "output_type": "stream",
     "text": [
      "EP 14, train loss = 0.043485165469390845, accuracy = 0.9830894898870638, IoU = 0.9415385701624673, dice = 0.9790297855236046\n"
     ]
    },
    {
     "name": "stderr",
     "output_type": "stream",
     "text": [
      "100%|██████████| 264/264 [02:31<00:00,  1.74it/s]\n"
     ]
    },
    {
     "name": "stdout",
     "output_type": "stream",
     "text": [
      "EP 15, train loss = 0.03928289951251173, accuracy = 0.9846173615338002, IoU = 0.9465843346358703, dice = 0.9809094966023425\n"
     ]
    },
    {
     "name": "stderr",
     "output_type": "stream",
     "text": [
      "100%|██████████| 264/264 [02:32<00:00,  1.73it/s]\n"
     ]
    },
    {
     "name": "stdout",
     "output_type": "stream",
     "text": [
      "EP 16, train loss = 0.03777124791757771, accuracy = 0.9849360026489852, IoU = 0.9477344724213602, dice = 0.9813227017871343\n"
     ]
    },
    {
     "name": "stderr",
     "output_type": "stream",
     "text": [
      "100%|██████████| 264/264 [02:32<00:00,  1.74it/s]\n"
     ]
    },
    {
     "name": "stdout",
     "output_type": "stream",
     "text": [
      "EP 17, train loss = 0.03812204449096486, accuracy = 0.9848591533738703, IoU = 0.9474351081495267, dice = 0.981216912251496\n"
     ]
    },
    {
     "name": "stderr",
     "output_type": "stream",
     "text": [
      "100%|██████████| 264/264 [02:32<00:00,  1.74it/s]\n"
     ]
    },
    {
     "name": "stdout",
     "output_type": "stream",
     "text": [
      "EP 18, train loss = 0.03898963585948356, accuracy = 0.9846830612341865, IoU = 0.9469112949534204, dice = 0.9810129958266778\n"
     ]
    },
    {
     "name": "stderr",
     "output_type": "stream",
     "text": [
      "100%|██████████| 264/264 [02:31<00:00,  1.74it/s]\n"
     ]
    },
    {
     "name": "stdout",
     "output_type": "stream",
     "text": [
      "EP 19, train loss = 0.038925945263999236, accuracy = 0.9846071674430167, IoU = 0.9466016959872599, dice = 0.9809044970506962\n"
     ]
    },
    {
     "name": "stderr",
     "output_type": "stream",
     "text": [
      "100%|██████████| 264/264 [02:32<00:00,  1.74it/s]\n"
     ]
    },
    {
     "name": "stdout",
     "output_type": "stream",
     "text": [
      "EP 20, train loss = 0.036975878741472, accuracy = 0.985235201339794, IoU = 0.948743004726504, dice = 0.9816858431419793\n"
     ]
    },
    {
     "name": "stderr",
     "output_type": "stream",
     "text": [
      "100%|██████████| 264/264 [02:31<00:00,  1.74it/s]\n"
     ]
    },
    {
     "name": "stdout",
     "output_type": "stream",
     "text": [
      "EP 21, train loss = 0.03777063302554374, accuracy = 0.9851314165334322, IoU = 0.9484238682254669, dice = 0.9815706473826458\n"
     ]
    },
    {
     "name": "stderr",
     "output_type": "stream",
     "text": [
      "100%|██████████| 264/264 [02:31<00:00,  1.74it/s]\n"
     ]
    },
    {
     "name": "stdout",
     "output_type": "stream",
     "text": [
      "EP 22, train loss = 0.03755470243701446, accuracy = 0.985098996130746, IoU = 0.9482483087952268, dice = 0.98151270510802\n"
     ]
    },
    {
     "name": "stderr",
     "output_type": "stream",
     "text": [
      "100%|██████████| 264/264 [02:31<00:00,  1.74it/s]\n"
     ]
    },
    {
     "name": "stdout",
     "output_type": "stream",
     "text": [
      "EP 23, train loss = 0.03701302326819815, accuracy = 0.9853119052791053, IoU = 0.9490247892473861, dice = 0.9817930603615473\n"
     ]
    },
    {
     "name": "stderr",
     "output_type": "stream",
     "text": [
      "100%|██████████| 264/264 [02:31<00:00,  1.74it/s]\n"
     ]
    },
    {
     "name": "stdout",
     "output_type": "stream",
     "text": [
      "EP 24, train loss = 0.038819189930946144, accuracy = 0.984632674724825, IoU = 0.946731363007873, dice = 0.9809486199827755\n"
     ]
    },
    {
     "name": "stderr",
     "output_type": "stream",
     "text": [
      "100%|██████████| 264/264 [02:31<00:00,  1.74it/s]\n"
     ]
    },
    {
     "name": "stdout",
     "output_type": "stream",
     "text": [
      "EP 25, train loss = 0.036978862861584895, accuracy = 0.9852408203499593, IoU = 0.9487505291625716, dice = 0.981696625362085\n"
     ]
    },
    {
     "name": "stderr",
     "output_type": "stream",
     "text": [
      "100%|██████████| 264/264 [02:31<00:00,  1.74it/s]\n"
     ]
    },
    {
     "name": "stdout",
     "output_type": "stream",
     "text": [
      "EP 26, train loss = 0.035656877215492204, accuracy = 0.9857775758973109, IoU = 0.950539433752563, dice = 0.9823561255348249\n"
     ]
    },
    {
     "name": "stderr",
     "output_type": "stream",
     "text": [
      "100%|██████████| 264/264 [02:31<00:00,  1.74it/s]\n"
     ]
    },
    {
     "name": "stdout",
     "output_type": "stream",
     "text": [
      "EP 27, train loss = 0.0353200018010058, accuracy = 0.9858132854132318, IoU = 0.9506795557897955, dice = 0.9824034762789674\n"
     ]
    },
    {
     "name": "stderr",
     "output_type": "stream",
     "text": [
      "100%|██████████| 264/264 [02:31<00:00,  1.75it/s]\n"
     ]
    },
    {
     "name": "stdout",
     "output_type": "stream",
     "text": [
      "EP 28, train loss = 0.0354698039662001, accuracy = 0.9858976768813956, IoU = 0.9509512028838923, dice = 0.9825040785139834\n"
     ]
    },
    {
     "name": "stderr",
     "output_type": "stream",
     "text": [
      "100%|██████████| 264/264 [02:31<00:00,  1.75it/s]\n"
     ]
    },
    {
     "name": "stdout",
     "output_type": "stream",
     "text": [
      "EP 29, train loss = 0.035263094655193915, accuracy = 0.9858914832010215, IoU = 0.9509623662570396, dice = 0.9825042131051167\n"
     ]
    },
    {
     "name": "stderr",
     "output_type": "stream",
     "text": [
      "100%|██████████| 264/264 [02:30<00:00,  1.75it/s]\n"
     ]
    },
    {
     "name": "stdout",
     "output_type": "stream",
     "text": [
      "EP 30, train loss = 0.03450524266915258, accuracy = 0.986203711444558, IoU = 0.9520104077328314, dice = 0.9828909676260469\n"
     ]
    }
   ],
   "source": [
    "# Kiểm tra xem có nhiều hơn 1 GPU hay không\n",
    "if torch.cuda.device_count() > 1:\n",
    "    print(\"Let's use\", torch.cuda.device_count(), \"GPUs!\")\n",
    "    model = nn.DataParallel(model)\n",
    "\n",
    "model = model.to(device)\n",
    "\n",
    "for ep in range(1, 1+n_eps):\n",
    "    acc_meter.reset()\n",
    "    train_loss_meter.reset()\n",
    "    dice_meter.reset()\n",
    "    iou_meter.reset()\n",
    "    model.train()\n",
    "\n",
    "    for batch_id, (x, y) in enumerate(tqdm(trainloader), start=1):\n",
    "        optimizer.zero_grad()\n",
    "        n = x.shape[0]\n",
    "        x = x.to(device).float()\n",
    "        y = y.to(device).float()\n",
    "        y_hat = model(x)\n",
    "        y_hat = y_hat.squeeze() # -> logit (-vc, +vc)\n",
    "        loss = criterion(y_hat, y)\n",
    "        loss.backward()\n",
    "        optimizer.step()\n",
    "\n",
    "        with torch.no_grad():\n",
    "            y_hat_mask = y_hat.sigmoid().round().long() # -> mask (0, 1)\n",
    "            dice_score = dice_fn(y_hat_mask, y.long())\n",
    "            iou_score = iou_fn(y_hat_mask, y.long())\n",
    "            accuracy = accuracy_function(y_hat_mask, y.long())\n",
    "\n",
    "            train_loss_meter.update(loss.item(), n)\n",
    "            iou_meter.update(iou_score.item(), n)\n",
    "            dice_meter.update(dice_score.item(), n)\n",
    "            acc_meter.update(accuracy.item(), n)\n",
    "\n",
    "    print(\"EP {}, train loss = {}, accuracy = {}, IoU = {}, dice = {}\".format(\n",
    "        ep, train_loss_meter.avg, acc_meter.avg, iou_meter.avg, dice_meter.avg\n",
    "    ))\n",
    "    if ep >= 25:\n",
    "        torch.save(model.module.state_dict(), \"/kaggle/working/model_ep_{}.pth\".format(ep))  # Lưu trữ state_dict của mô hình, không phải của DataParallel\n"
   ]
  },
  {
   "cell_type": "code",
   "execution_count": 14,
   "id": "fcdb2017",
   "metadata": {
    "execution": {
     "iopub.execute_input": "2024-04-20T20:16:42.294715Z",
     "iopub.status.busy": "2024-04-20T20:16:42.293838Z",
     "iopub.status.idle": "2024-04-20T20:16:53.555717Z",
     "shell.execute_reply": "2024-04-20T20:16:53.554557Z"
    },
    "papermill": {
     "duration": 11.914847,
     "end_time": "2024-04-20T20:16:53.558157",
     "exception": false,
     "start_time": "2024-04-20T20:16:41.643310",
     "status": "completed"
    },
    "tags": []
   },
   "outputs": [
    {
     "name": "stderr",
     "output_type": "stream",
     "text": [
      "100%|██████████| 50/50 [00:11<00:00,  4.45it/s]"
     ]
    },
    {
     "name": "stdout",
     "output_type": "stream",
     "text": [
      "TEST: IoU = 0.9518393080445785, dice = 0.9829043599623668\n"
     ]
    },
    {
     "name": "stderr",
     "output_type": "stream",
     "text": [
      "\n"
     ]
    }
   ],
   "source": [
    "model.eval()\n",
    "test_iou_meter = AverageMeter()\n",
    "test_dice_meter = AverageMeter()\n",
    "with torch.no_grad():\n",
    "    for batch_id, (x, y) in enumerate(tqdm(testloader), start=1):\n",
    "        n = x.shape[0]\n",
    "        x = x.to(device).float()\n",
    "        y = y.to(device).float()\n",
    "        y_hat = model(x)\n",
    "        y_hat = y_hat.squeeze()\n",
    "        y_hat_mask = y_hat.sigmoid().round().long()\n",
    "        dice_score = dice_fn(y_hat_mask, y.long())\n",
    "        iou_score = iou_fn(y_hat_mask, y.long())\n",
    "        test_dice_meter.update(dice_score.item(), n)\n",
    "        test_iou_meter.update(iou_score.item(), n)\n",
    "print(\"TEST: IoU = {}, dice = {}\".format(test_iou_meter.avg, test_dice_meter.avg))"
   ]
  },
  {
   "cell_type": "code",
   "execution_count": 15,
   "id": "47495899",
   "metadata": {
    "execution": {
     "iopub.execute_input": "2024-04-20T20:16:54.923576Z",
     "iopub.status.busy": "2024-04-20T20:16:54.922645Z",
     "iopub.status.idle": "2024-04-20T20:16:55.618483Z",
     "shell.execute_reply": "2024-04-20T20:16:55.617522Z"
    },
    "papermill": {
     "duration": 1.344431,
     "end_time": "2024-04-20T20:16:55.620746",
     "exception": false,
     "start_time": "2024-04-20T20:16:54.276315",
     "status": "completed"
    },
    "tags": []
   },
   "outputs": [
    {
     "data": {
      "image/png": "[encoded data removed]",
      "text/plain": [
       "<Figure size 640x480 with 3 Axes>"
      ]
     },
     "metadata": {},
     "output_type": "display_data"
    }
   ],
   "source": [
    "import random\n",
    "\n",
    "model.eval()\n",
    "idx = random.randint(0, 100)\n",
    "with torch.no_grad():\n",
    "    x, y = test_dataset[idx]\n",
    "    # print(x.shape, y.shape) (C, H, W) -> (1, C, H, W) -> model\n",
    "    x = x.to(device).float().unsqueeze(0)\n",
    "    y_hat = model(x).squeeze() #(1, 1, H, W) -> (H, W)\n",
    "    y_hat_mask = y_hat.sigmoid().round().long()\n",
    "    # x, y, y_hat_mask\n",
    "    plt.subplot(1, 3, 1)\n",
    "    plt.imshow(unorm(x.squeeze().cpu()).permute(1, 2, 0)) # x (GPU) -> x(CPU)\n",
    "    plt.subplot(1, 3, 2)\n",
    "    plt.imshow(y)\n",
    "    plt.subplot(1, 3, 3)\n",
    "    plt.imshow(y_hat_mask.cpu())"
   ]
  }
 ],
 "metadata": {
  "kaggle": {
   "accelerator": "nvidiaTeslaT4",
   "dataSources": [
    {
     "datasetId": 4834765,
     "sourceId": 8169932,
     "sourceType": "datasetVersion"
    }
   ],
   "dockerImageVersionId": 30698,
   "isGpuEnabled": true,
   "isInternetEnabled": true,
   "language": "python",
   "sourceType": "notebook"
  },
  "kernelspec": {
   "display_name": "Python 3",
   "language": "python",
   "name": "python3"
  },
  "language_info": {
   "codemirror_mode": {
    "name": "ipython",
    "version": 3
   },
   "file_extension": ".py",
   "mimetype": "text/x-python",
   "name": "python",
   "nbconvert_exporter": "python",
   "pygments_lexer": "ipython3",
   "version": "3.10.13"
  },
  "papermill": {
   "default_parameters": {},
   "duration": 4674.539145,
   "end_time": "2024-04-20T20:16:59.950181",
   "environment_variables": {},
   "exception": null,
   "input_path": "__notebook__.ipynb",
   "output_path": "__notebook__.ipynb",
   "parameters": {},
   "start_time": "2024-04-20T18:59:05.411036",
   "version": "2.5.0"
  }
 },
 "nbformat": 4,
 "nbformat_minor": 5
}
