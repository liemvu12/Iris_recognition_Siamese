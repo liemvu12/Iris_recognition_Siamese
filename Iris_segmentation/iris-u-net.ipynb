{
 "cells": [
  {
   "cell_type": "code",
   "execution_count": 1,
   "id": "26107aa6",
   "metadata": {
    "_cell_guid": "b1076dfc-b9ad-4769-8c92-a6c4dae69d19",
    "_uuid": "8f2839f25d086af736a60e9eeb907d3b93b6e0e5",
    "execution": {
     "iopub.execute_input": "2024-06-28T17:02:22.435612Z",
     "iopub.status.busy": "2024-06-28T17:02:22.435208Z",
     "iopub.status.idle": "2024-06-28T17:02:27.023346Z",
     "shell.execute_reply": "2024-06-28T17:02:27.022443Z"
    },
    "papermill": {
     "duration": 4.604292,
     "end_time": "2024-06-28T17:02:27.032497",
     "exception": false,
     "start_time": "2024-06-28T17:02:22.428205",
     "status": "completed"
    },
    "tags": []
   },
   "outputs": [
    {
     "name": "stdout",
     "output_type": "stream",
     "text": [
      "/kaggle/input/iris-segmentation/results/results/S1209R04.png\n",
      "/kaggle/input/iris-segmentation/results/results/S1104L04.png\n",
      "/kaggle/input/iris-segmentation/results/results/S1071R06.png\n",
      "/kaggle/input/iris-segmentation/results/results/S1083L07.png\n",
      "/kaggle/input/iris-segmentation/results/results/S1003R07.png\n",
      "/kaggle/input/iris-segmentation/results/results/S1162R06.png\n",
      "/... \n",
      "/kaggle/input/iris-segmentation/data_iris/data_iris/train/S1130R07.jpg\n",
      "/kaggle/input/iris-segmentation/data_iris/data_iris/train/S1185L02.jpg\n",
      "/kaggle/input/iris-segmentation/data_iris/data_iris/train/S1221R02.jpg\n",
      "/kaggle/input/iris-segmentation/data_iris/data_iris/train/S1219R05.jpg\n",
      "/kaggle/input/iris-segmentation/data_iris/data_iris/train/S1111L07.jpg\n",
      "/kaggle/input/iris-segmentation/data_iris/data_iris/train/S1121L02.jpg\n",
      "/kaggle/input/iris-segmentation/data_iris/data_iris/train/S1023R01.jpg\n",
      "/kaggle/input/iris-segmentation/data_iris/data_iris/train/S1247R03.jpg\n",
      "/kaggle/input/iris-segmentation/data_iris/data_iris/train/S1019L05.jpg\n",
      "/kaggle/input/iris-segmentation/data_iris/data_iris/train/S1042R01.jpg\n",
      "/kaggle/input/iris-segmentation/data_iris/data_iris/train/S1047L03.jpg\n",
      "/kaggle/input/iris-segmentation/data_iris/data_iris/train/S1179R02.jpg\n",
      "/kaggle/input/iris-segmentation/data_iris/data_iris/train/S1108R03.jpg\n"
     ]
    }
   ],
   "source": [
    "# This Python 3 environment comes with many helpful analytics libraries installed\n",
    "# It is defined by the kaggle/python Docker image: https://github.com/kaggle/docker-python\n",
    "# For example, here's several helpful packages to load\n",
    "\n",
    "import numpy as np # linear algebra\n",
    "import pandas as pd # data processing, CSV file I/O (e.g. pd.read_csv)\n",
    "\n",
    "# Input data files are available in the read-only \"../input/\" directory\n",
    "# For example, running this (by clicking run or pressing Shift+Enter) will list all files under the input directory\n",
    "\n",
    "import os\n",
    "for dirname, _, filenames in os.walk('/kaggle/input'):\n",
    "    for filename in filenames:\n",
    "        print(os.path.join(dirname, filename))\n",
    "\n",
    "# You can write up to 20GB to the current directory (/kaggle/working/) that gets preserved as output when you create a version using \"Save & Run All\" \n",
    "# You can also write temporary files to /kaggle/temp/, but they won't be saved outside of the current session"
   ]
  },
  {
   "cell_type": "code",
   "execution_count": 2,
   "id": "a60b43ef",
   "metadata": {
    "execution": {
     "iopub.execute_input": "2024-06-28T17:02:27.072131Z",
     "iopub.status.busy": "2024-06-28T17:02:27.071165Z",
     "iopub.status.idle": "2024-06-28T17:03:25.038613Z",
     "shell.execute_reply": "2024-06-28T17:03:25.037621Z"
    },
    "papermill": {
     "duration": 57.985503,
     "end_time": "2024-06-28T17:03:25.041185",
     "exception": false,
     "start_time": "2024-06-28T17:02:27.055682",
     "status": "completed"
    },
    "tags": []
   },
   "outputs": [
    {
     "name": "stdout",
     "output_type": "stream",
     "text": [
     ]
    }
   ],
   "source": [
    "!pip install torchmetrics\n",
    "!pip install segmentation_models_pytorch\n",
    "!pip install albumentations\n",
    "!pip install torchsummary\n"
   ]
  },
  {
   "cell_type": "code",
   "execution_count": 3,
   "id": "96d57966",
   "metadata": {
    "execution": {
     "iopub.execute_input": "2024-06-28T17:03:25.080863Z",
     "iopub.status.busy": "2024-06-28T17:03:25.080468Z",
     "iopub.status.idle": "2024-06-28T17:03:37.596740Z",
     "shell.execute_reply": "2024-06-28T17:03:37.595434Z"
    },
    "papermill": {
     "duration": 12.539771,
     "end_time": "2024-06-28T17:03:37.599727",
     "exception": false,
     "start_time": "2024-06-28T17:03:25.059956",
     "status": "completed"
    },
    "tags": []
   },
   "outputs": [],
   "source": [
    "import numpy as np\n",
    "import cv2\n",
    "import matplotlib.pyplot as plt\n",
    "import torch\n",
    "import torch.nn as nn\n",
    "from torch.utils.data import Dataset, DataLoader\n",
    "import torchmetrics\n",
    "from torchmetrics import Dice, JaccardIndex\n",
    "import segmentation_models_pytorch as smp\n",
    "import albumentations as A\n",
    "from albumentations.pytorch import ToTensorV2 # np.array -> torch.tensor\n",
    "import os\n",
    "from tqdm import tqdm\n",
    "from glob import glob"
   ]
  },
  {
   "cell_type": "code",
   "execution_count": 4,
   "id": "150fb932",
   "metadata": {
    "execution": {
     "iopub.execute_input": "2024-06-28T17:03:37.638968Z",
     "iopub.status.busy": "2024-06-28T17:03:37.638481Z",
     "iopub.status.idle": "2024-06-28T17:03:37.643291Z",
     "shell.execute_reply": "2024-06-28T17:03:37.642505Z"
    },
    "papermill": {
     "duration": 0.025447,
     "end_time": "2024-06-28T17:03:37.645346",
     "exception": false,
     "start_time": "2024-06-28T17:03:37.619899",
     "status": "completed"
    },
    "tags": []
   },
   "outputs": [
    {
     "name": "stdout",
     "output_type": "stream",
     "text": [
      "1.4.0\n"
     ]
    }
   ],
   "source": [
    "print(A.__version__)"
   ]
  },
  {
   "cell_type": "code",
   "execution_count": 5,
   "id": "b28ba236",
   "metadata": {
    "execution": {
     "iopub.execute_input": "2024-06-28T17:03:37.681584Z",
     "iopub.status.busy": "2024-06-28T17:03:37.681287Z",
     "iopub.status.idle": "2024-06-28T17:03:37.691968Z",
     "shell.execute_reply": "2024-06-28T17:03:37.691179Z"
    },
    "papermill": {
     "duration": 0.030823,
     "end_time": "2024-06-28T17:03:37.693756",
     "exception": false,
     "start_time": "2024-06-28T17:03:37.662933",
     "status": "completed"
    },
    "tags": []
   },
   "outputs": [],
   "source": [
    "class IrisDataset(Dataset):\n",
    "    def __init__(self, root_dir, ROI_input, results, transform=None):\n",
    "        self.root_dir = root_dir\n",
    "        self.ROI_input = ROI_input\n",
    "        self.results = results\n",
    "        self.transform = transform\n",
    "        self.img_path_lst = []\n",
    "        # Lấy danh sách các tệp hình ảnh từ thư mục ROI_input\n",
    "        img_files = [f for f in os.listdir(self.ROI_input) if f.endswith(\".jpg\")]\n",
    "        for filename in img_files:\n",
    "            self.img_path_lst.append(filename)  # Thêm tên file vào danh sách\n",
    "\n",
    "    def __len__(self):\n",
    "        return len(self.img_path_lst)\n",
    "\n",
    "    def __getitem__(self, idx):\n",
    "        # Xây dựng đường dẫn đầy đủ đến hình ảnh và mặt nạ\n",
    "        image_path = os.path.join(self.ROI_input, self.img_path_lst[idx])\n",
    "        mask_path = os.path.join(self.results, self.img_path_lst[idx].replace(\".jpg\", \".png\"))\n",
    "\n",
    "        # Đọc hình ảnh và mặt nạ từ đường dẫn\n",
    "        image = cv2.imread(image_path)\n",
    "        image = cv2.cvtColor(image, cv2.COLOR_BGR2RGB)\n",
    "        mask = cv2.imread(mask_path, cv2.IMREAD_GRAYSCALE)\n",
    "\n",
    "        if mask is None:  # Kiểm tra xem mask có bị None hay không\n",
    "          mask = np.zeros_like(image[..., 0])  # Tạo mặt nạ trống\n",
    "        else:\n",
    "          mask = mask.astype('uint8')  # Chuyển đổi kiểu dữ liệu sang uint8\n",
    "\n",
    "        # Chuyển các giá trị mặt nạ 255 thành 1\n",
    "        mask[mask >= 200] = 1\n",
    "\n",
    "        # Áp dụng biến đổi nếu có\n",
    "        if self.transform is not None:\n",
    "            transformed = self.transform(image=image, mask=mask)\n",
    "            transformed_image = transformed['image']\n",
    "            transformed_mask = transformed['mask']\n",
    "            return transformed_image, transformed_mask\n",
    "        else:\n",
    "            return image, mask"
   ]
  },
  {
   "cell_type": "code",
   "execution_count": 6,
   "id": "44e90a1d",
   "metadata": {
    "execution": {
     "iopub.execute_input": "2024-06-28T17:03:37.730813Z",
     "iopub.status.busy": "2024-06-28T17:03:37.730219Z",
     "iopub.status.idle": "2024-06-28T17:03:37.737805Z",
     "shell.execute_reply": "2024-06-28T17:03:37.737024Z"
    },
    "papermill": {
     "duration": 0.028413,
     "end_time": "2024-06-28T17:03:37.739661",
     "exception": false,
     "start_time": "2024-06-28T17:03:37.711248",
     "status": "completed"
    },
    "tags": []
   },
   "outputs": [],
   "source": [
    "trainsize = 384\n",
    "\n",
    "train_transform = A.Compose([\n",
    "    A.Resize(width=trainsize, height=trainsize),\n",
    "    A.HorizontalFlip(),\n",
    "    A.RandomBrightnessContrast(),\n",
    "    A.Blur(),\n",
    "    A.Sharpen(),\n",
    "    A.Normalize(mean=(0.485, 0.456, 0.406), std=(0.229, 0.224, 0.225), max_pixel_value=255.0),\n",
    "    ToTensorV2(),\n",
    "])\n",
    "\n",
    "test_trainsform = A.Compose([\n",
    "    A.Resize(width=trainsize, height=trainsize),\n",
    "    A.Normalize(mean=(0.485, 0.456, 0.406), std=(0.229, 0.224, 0.225), max_pixel_value=255.0),\n",
    "    ToTensorV2(), # numpy.array -> torch.tensor (B, 3, H, W)\n",
    "])"
   ]
  },
  {
   "cell_type": "code",
   "execution_count": 7,
   "id": "03c0c611",
   "metadata": {
    "execution": {
     "iopub.execute_input": "2024-06-28T17:03:37.775771Z",
     "iopub.status.busy": "2024-06-28T17:03:37.775504Z",
     "iopub.status.idle": "2024-06-28T17:03:37.781369Z",
     "shell.execute_reply": "2024-06-28T17:03:37.780579Z"
    },
    "papermill": {
     "duration": 0.026015,
     "end_time": "2024-06-28T17:03:37.783277",
     "exception": false,
     "start_time": "2024-06-28T17:03:37.757262",
     "status": "completed"
    },
    "tags": []
   },
   "outputs": [],
   "source": [
    "class UnNormalize(object):\n",
    "    def __init__(self, mean, std):\n",
    "        self.mean = mean\n",
    "        self.std = std\n",
    "\n",
    "    def __call__(self, tensor):\n",
    "        \"\"\"\n",
    "        Args:\n",
    "            tensor (Tensor): Tensor image of size (C, H, W) to be normalized.\n",
    "        Returns:\n",
    "            Tensor: Normalized image.\n",
    "        \"\"\"\n",
    "        for t, m, s in zip(tensor, self.mean, self.std):\n",
    "            t.mul_(s).add_(m)\n",
    "            # The normalize code -> t.sub_(m).div_(s)\n",
    "        return tensor\n",
    "\n",
    "unorm = UnNormalize(mean=(0.485, 0.456, 0.406), std=(0.229, 0.224, 0.225))"
   ]
  },
  {
   "cell_type": "code",
   "execution_count": 8,
   "id": "1bbadfdf",
   "metadata": {
    "execution": {
     "iopub.execute_input": "2024-06-28T17:03:37.819495Z",
     "iopub.status.busy": "2024-06-28T17:03:37.819219Z",
     "iopub.status.idle": "2024-06-28T17:03:37.829938Z",
     "shell.execute_reply": "2024-06-28T17:03:37.829307Z"
    },
    "papermill": {
     "duration": 0.030894,
     "end_time": "2024-06-28T17:03:37.831845",
     "exception": false,
     "start_time": "2024-06-28T17:03:37.800951",
     "status": "completed"
    },
    "tags": []
   },
   "outputs": [],
   "source": [
    " train_dataset = IrisDataset(\"/kaggle/input/iris-segmentation\", \"/kaggle/input/iris-segmentation/data_iris/data_iris/train\", \"/kaggle/input/iris-segmentation/results/results\", train_transform)\n",
    " test_dataset =  IrisDataset(\"/kaggle/input/iris-segmentation\", \"/kaggle/input/iris-segmentation/data_iris/data_iris/test\", \"/kaggle/input/iris-segmentation/results/results\", test_trainsform)\n",
    "# image, mask = train_dataset.__getitem__(10)\n",
    "# plt.subplot(1, 2, 1)\n",
    "# plt.imshow(unorm(image).permute(1, 2, 0))\n",
    "# plt.subplot(1, 2, 2)\n",
    "# plt.imshow(mask)\n",
    "# plt.show"
   ]
  },
  {
   "cell_type": "code",
   "execution_count": 9,
   "id": "a4c90fdd",
   "metadata": {
    "execution": {
     "iopub.execute_input": "2024-06-28T17:03:37.868193Z",
     "iopub.status.busy": "2024-06-28T17:03:37.867933Z",
     "iopub.status.idle": "2024-06-28T17:03:37.880602Z",
     "shell.execute_reply": "2024-06-28T17:03:37.879753Z"
    },
    "papermill": {
     "duration": 0.033028,
     "end_time": "2024-06-28T17:03:37.882636",
     "exception": false,
     "start_time": "2024-06-28T17:03:37.849608",
     "status": "completed"
    },
    "tags": []
   },
   "outputs": [],
   "source": [
    "#model UNet\n",
    "def unet_block(in_channels, out_channels):\n",
    "    return nn.Sequential(\n",
    "        nn.Conv2d(in_channels, out_channels, 3, 1, 1),\n",
    "        nn.ReLU(),\n",
    "        nn.Conv2d(out_channels, out_channels, 3, 1, 1),\n",
    "        nn.ReLU()\n",
    "    )\n",
    "\n",
    "class UNet(nn.Module):\n",
    "    def __init__(self, n_classes):\n",
    "        super().__init__()\n",
    "        self.n_classes = n_classes\n",
    "        self.downsample = nn.MaxPool2d(2)\n",
    "        self.upsample = nn.Upsample(scale_factor=2, mode=\"bilinear\")\n",
    "        self.block_down1 = unet_block(3, 64)\n",
    "        self.block_down2 = unet_block(64, 128)\n",
    "        self.block_down3 = unet_block(128, 256)\n",
    "        self.block_down4 = unet_block(256, 512)\n",
    "        self.block_neck = unet_block(512, 1024)\n",
    "        self.block_up1 = unet_block(1024+512, 512)\n",
    "        self.block_up2 = unet_block(256+512, 256)\n",
    "        self.block_up3 = unet_block(128+256, 128)\n",
    "        self.block_up4 = unet_block(128+64, 64)\n",
    "        self.conv_cls = nn.Conv2d(64, self.n_classes, 1) # -> (B, n_class, H, W)\n",
    "\n",
    "    def forward(self, x):\n",
    "        # (B, C, H, W)\n",
    "        x1 = self.block_down1(x)\n",
    "        x = self.downsample(x1)\n",
    "        x2 = self.block_down2(x)\n",
    "        x = self.downsample(x2)\n",
    "        x3 = self.block_down3(x)\n",
    "        x = self.downsample(x3)\n",
    "        x4 = self.block_down4(x)\n",
    "        x = self.downsample(x4)\n",
    "\n",
    "        x = self.block_neck(x)\n",
    "\n",
    "        x = torch.cat([x4, self.upsample(x)], dim=1)\n",
    "        x = self.block_up1(x)\n",
    "        x = torch.cat([x3, self.upsample(x)], dim=1)\n",
    "        x = self.block_up2(x)\n",
    "        x = torch.cat([x2, self.upsample(x)], dim=1)\n",
    "        x = self.block_up3(x)\n",
    "        x = torch.cat([x1, self.upsample(x)], dim=1)\n",
    "        x = self.block_up4(x)\n",
    "\n",
    "        x = self.conv_cls(x)\n",
    "        return x\n",
    "\n",
    "# model = UNet(1)\n",
    "# x = torch.rand(4, 3, trainsize, trainsize)\n",
    "# print(\"Input shape =\", x.shape)\n",
    "# y = model(x).squeeze()\n",
    "# print(\"Output shape = \", y.shape)\n",
    "# # y true (4, 384, 384)\n",
    "# # y hat.squeeze() (4, 1, 384, 384) -> (4, 384, 384)"
   ]
  },
  {
   "cell_type": "code",
   "execution_count": 10,
   "id": "df4bbfdb",
   "metadata": {
    "execution": {
     "iopub.execute_input": "2024-06-28T17:03:37.918821Z",
     "iopub.status.busy": "2024-06-28T17:03:37.918543Z",
     "iopub.status.idle": "2024-06-28T17:03:37.924069Z",
     "shell.execute_reply": "2024-06-28T17:03:37.923305Z"
    },
    "papermill": {
     "duration": 0.025823,
     "end_time": "2024-06-28T17:03:37.925961",
     "exception": false,
     "start_time": "2024-06-28T17:03:37.900138",
     "status": "completed"
    },
    "tags": []
   },
   "outputs": [],
   "source": [
    "class AverageMeter(object):\n",
    "    def __init__(self):\n",
    "        self.reset()\n",
    "\n",
    "    def reset(self):\n",
    "        self.val = 0\n",
    "        self.avg = 0\n",
    "        self.sum = 0\n",
    "        self.count = 0\n",
    "\n",
    "    def update(self, val, n=1):\n",
    "        self.val = val\n",
    "        self.sum += val * n\n",
    "        self.count += n\n",
    "        self.avg = self.sum / self.count"
   ]
  },
  {
   "cell_type": "code",
   "execution_count": 11,
   "id": "b386e8b0",
   "metadata": {
    "execution": {
     "iopub.execute_input": "2024-06-28T17:03:37.962969Z",
     "iopub.status.busy": "2024-06-28T17:03:37.962699Z",
     "iopub.status.idle": "2024-06-28T17:03:37.967085Z",
     "shell.execute_reply": "2024-06-28T17:03:37.966342Z"
    },
    "papermill": {
     "duration": 0.025606,
     "end_time": "2024-06-28T17:03:37.968962",
     "exception": false,
     "start_time": "2024-06-28T17:03:37.943356",
     "status": "completed"
    },
    "tags": []
   },
   "outputs": [],
   "source": [
    "#accuracy fn\n",
    "def accuracy_function(preds, targets):\n",
    "    preds_flat = preds.flatten()\n",
    "    targets_flat = targets.flatten()\n",
    "    acc = torch.sum(preds_flat == targets_flat)\n",
    "    return acc/targets_flat.shape[0]"
   ]
  },
  {
   "cell_type": "code",
   "execution_count": 12,
   "id": "12438937",
   "metadata": {
    "execution": {
     "iopub.execute_input": "2024-06-28T17:03:38.005429Z",
     "iopub.status.busy": "2024-06-28T17:03:38.005130Z",
     "iopub.status.idle": "2024-06-28T17:03:39.168957Z",
     "shell.execute_reply": "2024-06-28T17:03:39.168000Z"
    },
    "papermill": {
     "duration": 1.184906,
     "end_time": "2024-06-28T17:03:39.171397",
     "exception": false,
     "start_time": "2024-06-28T17:03:37.986491",
     "status": "completed"
    },
    "tags": []
   },
   "outputs": [
    {
     "name": "stdout",
     "output_type": "stream",
     "text": [
      "num_workers = 4\n",
      "----------------------------------------------------------------\n",
      "        Layer (type)               Output Shape         Param #\n",
      "================================================================\n",
      "            Conv2d-1         [-1, 64, 384, 384]           1,792\n",
      "              ReLU-2         [-1, 64, 384, 384]               0\n",
      "            Conv2d-3         [-1, 64, 384, 384]          36,928\n",
      "              ReLU-4         [-1, 64, 384, 384]               0\n",
      "         MaxPool2d-5         [-1, 64, 192, 192]               0\n",
      "            Conv2d-6        [-1, 128, 192, 192]          73,856\n",
      "              ReLU-7        [-1, 128, 192, 192]               0\n",
      "            Conv2d-8        [-1, 128, 192, 192]         147,584\n",
      "              ReLU-9        [-1, 128, 192, 192]               0\n",
      "        MaxPool2d-10          [-1, 128, 96, 96]               0\n",
      "           Conv2d-11          [-1, 256, 96, 96]         295,168\n",
      "             ReLU-12          [-1, 256, 96, 96]               0\n",
      "           Conv2d-13          [-1, 256, 96, 96]         590,080\n",
      "             ReLU-14          [-1, 256, 96, 96]               0\n",
      "        MaxPool2d-15          [-1, 256, 48, 48]               0\n",
      "           Conv2d-16          [-1, 512, 48, 48]       1,180,160\n",
      "             ReLU-17          [-1, 512, 48, 48]               0\n",
      "           Conv2d-18          [-1, 512, 48, 48]       2,359,808\n",
      "             ReLU-19          [-1, 512, 48, 48]               0\n",
      "        MaxPool2d-20          [-1, 512, 24, 24]               0\n",
      "           Conv2d-21         [-1, 1024, 24, 24]       4,719,616\n",
      "             ReLU-22         [-1, 1024, 24, 24]               0\n",
      "           Conv2d-23         [-1, 1024, 24, 24]       9,438,208\n",
      "             ReLU-24         [-1, 1024, 24, 24]               0\n",
      "         Upsample-25         [-1, 1024, 48, 48]               0\n",
      "           Conv2d-26          [-1, 512, 48, 48]       7,078,400\n",
      "             ReLU-27          [-1, 512, 48, 48]               0\n",
      "           Conv2d-28          [-1, 512, 48, 48]       2,359,808\n",
      "             ReLU-29          [-1, 512, 48, 48]               0\n",
      "         Upsample-30          [-1, 512, 96, 96]               0\n",
      "           Conv2d-31          [-1, 256, 96, 96]       1,769,728\n",
      "             ReLU-32          [-1, 256, 96, 96]               0\n",
      "           Conv2d-33          [-1, 256, 96, 96]         590,080\n",
      "             ReLU-34          [-1, 256, 96, 96]               0\n",
      "         Upsample-35        [-1, 256, 192, 192]               0\n",
      "           Conv2d-36        [-1, 128, 192, 192]         442,496\n",
      "             ReLU-37        [-1, 128, 192, 192]               0\n",
      "           Conv2d-38        [-1, 128, 192, 192]         147,584\n",
      "             ReLU-39        [-1, 128, 192, 192]               0\n",
      "         Upsample-40        [-1, 128, 384, 384]               0\n",
      "           Conv2d-41         [-1, 64, 384, 384]         110,656\n",
      "             ReLU-42         [-1, 64, 384, 384]               0\n",
      "           Conv2d-43         [-1, 64, 384, 384]          36,928\n",
      "             ReLU-44         [-1, 64, 384, 384]               0\n",
      "           Conv2d-45          [-1, 1, 384, 384]              65\n",
      "================================================================\n",
      "Total params: 31,378,945\n",
      "Trainable params: 31,378,945\n",
      "Non-trainable params: 0\n",
      "----------------------------------------------------------------\n",
      "Input size (MB): 1.69\n",
      "Forward/backward pass size (MB): 1402.88\n",
      "Params size (MB): 119.70\n",
      "Estimated Total Size (MB): 1524.26\n",
      "----------------------------------------------------------------\n"
     ]
    }
   ],
   "source": [
    "from torchsummary import summary\n",
    "\n",
    "#device\n",
    "device = torch.device(\"cuda\" if torch.cuda.is_available() else \"cpu\")\n",
    "\n",
    "#load data\n",
    "batch_size = 8\n",
    "n_workers = os.cpu_count()\n",
    "print(\"num_workers =\", n_workers)\n",
    "trainloader = torch.utils.data.DataLoader(train_dataset, batch_size=batch_size,\n",
    "                                          shuffle=True, num_workers=n_workers)\n",
    "testloader = torch.utils.data.DataLoader(test_dataset, batch_size=batch_size,\n",
    "                                          shuffle=False, num_workers=n_workers)\n",
    "\n",
    "#model\n",
    "model = UNet(1).to(device)\n",
    "summary(model, input_size=(3, 384, 384))\n",
    "\n",
    "#loss\n",
    "criterion = nn.BCEWithLogitsLoss()\n",
    "\n",
    "#optimizer\n",
    "optimizer = torch.optim.Adam(model.parameters(), lr=1e-4)\n",
    "n_eps = 100\n",
    "\n",
    "#metrics\n",
    "dice_fn = torchmetrics.Dice(num_classes=2, average=\"macro\").to(device)\n",
    "iou_fn = torchmetrics.JaccardIndex(num_classes=2, task=\"binary\", average=\"macro\").to(device)\n",
    "\n",
    "#meter\n",
    "acc_meter = AverageMeter()\n",
    "train_loss_meter = AverageMeter()\n",
    "dice_meter = AverageMeter()\n",
    "iou_meter = AverageMeter()"
   ]
  },
  {
   "cell_type": "code",
   "execution_count": 13,
   "id": "9a8a045d",
   "metadata": {
    "execution": {
     "iopub.execute_input": "2024-06-28T17:03:39.209648Z",
     "iopub.status.busy": "2024-06-28T17:03:39.209316Z",
     "iopub.status.idle": "2024-06-28T20:56:53.401776Z",
     "shell.execute_reply": "2024-06-28T20:56:53.400714Z"
    },
    "papermill": {
     "duration": 13994.263896,
     "end_time": "2024-06-28T20:56:53.453957",
     "exception": false,
     "start_time": "2024-06-28T17:03:39.190061",
     "status": "completed"
    },
    "tags": []
   },
   "outputs": [
    {
     "name": "stderr",
     "output_type": "stream",
     "text": [
      "100%|██████████| 264/264 [02:20<00:00,  1.88it/s]\n"
     ]
    },
    {
     "name": "stdout",
     "output_type": "stream",
     "text": [
      "EP 1, train loss = 0.31378611537718004, accuracy = 0.8465750559005158, IoU = 0.49606915033511656, dice = 0.7355121061969301\n",
      "Saved new best model at epoch 1 with IoU: 0.49606915033511656, Dice: 0.7355121061969301\n"
     ]
    },
    {
     "name": "stderr",
     "output_type": "stream",
     "text": [
      "100%|██████████| 264/264 [02:20<00:00,  1.89it/s]\n"
     ]
    },
    {
     "name": "stdout",
     "output_type": "stream",
     "text": [
      "EP 2, train loss = 0.08309258372863963, accuracy = 0.9683011846026615, IoU = 0.893272034696655, dice = 0.9606524117757519\n",
      "Saved new best model at epoch 2 with IoU: 0.893272034696655, Dice: 0.9606524117757519\n"
     ]
    },
    {
     "name": "stderr",
     "output_type": "stream",
     "text": [
      "100%|██████████| 264/264 [02:19<00:00,  1.89it/s]\n"
     ]
    },
    {
     "name": "stdout",
     "output_type": "stream",
     "text": [
      "EP 3, train loss = 0.05690893050163023, accuracy = 0.9783321676715728, IoU = 0.9255573057359264, dice = 0.9730995947767254\n",
      "Saved new best model at epoch 3 with IoU: 0.9255573057359264, Dice: 0.9730995947767254\n"
     ]
    },
    {
     "name": "stderr",
     "output_type": "stream",
     "text": [
      "100%|██████████| 264/264 [02:19<00:00,  1.89it/s]\n"
     ]
    },
    {
     "name": "stdout",
     "output_type": "stream",
     "text": [
      "EP 4, train loss = 0.05111463515678212, accuracy = 0.9802701036663164, IoU = 0.9320317880026077, dice = 0.9755184661731322\n",
      "Saved new best model at epoch 4 with IoU: 0.9320317880026077, Dice: 0.9755184661731322\n"
     ]
    },
    {
     "name": "stderr",
     "output_type": "stream",
     "text": [
      "100%|██████████| 264/264 [02:19<00:00,  1.89it/s]\n"
     ]
    },
    {
     "name": "stdout",
     "output_type": "stream",
     "text": [
      "EP 5, train loss = 0.048683407707617, accuracy = 0.9811139343133235, IoU = 0.9348203111192533, dice = 0.9765599298748617\n",
      "Saved new best model at epoch 5 with IoU: 0.9348203111192533, Dice: 0.9765599298748617\n"
     ]
    },
    {
     "name": "stderr",
     "output_type": "stream",
     "text": [
      "100%|██████████| 264/264 [02:19<00:00,  1.89it/s]\n"
     ]
    },
    {
     "name": "stdout",
     "output_type": "stream",
     "text": [
      "EP 6, train loss = 0.04684969453420313, accuracy = 0.9818364109214841, IoU = 0.9371956810779318, dice = 0.9774472019025452\n",
      "Saved new best model at epoch 6 with IoU: 0.9371956810779318, Dice: 0.9774472019025452\n"
     ]
    },
    {
     "name": "stderr",
     "output_type": "stream",
     "text": [
      "100%|██████████| 264/264 [02:19<00:00,  1.89it/s]\n"
     ]
    },
    {
     "name": "stdout",
     "output_type": "stream",
     "text": [
      "EP 7, train loss = 0.044469491771265045, accuracy = 0.9828285781889305, IoU = 0.9405511381277776, dice = 0.9786906476491316\n",
      "Saved new best model at epoch 7 with IoU: 0.9405511381277776, Dice: 0.9786906476491316\n"
     ]
    },
    {
     "name": "stderr",
     "output_type": "stream",
     "text": [
      "100%|██████████| 264/264 [02:19<00:00,  1.89it/s]\n"
     ]
    },
    {
     "name": "stdout",
     "output_type": "stream",
     "text": [
      "EP 8, train loss = 0.044081082889205814, accuracy = 0.983175559785832, IoU = 0.9416767364434997, dice = 0.9791036570547201\n",
      "Saved new best model at epoch 8 with IoU: 0.9416767364434997, Dice: 0.9791036570547201\n"
     ]
    },
    {
     "name": "stderr",
     "output_type": "stream",
     "text": [
      "100%|██████████| 264/264 [02:19<00:00,  1.89it/s]\n"
     ]
    },
    {
     "name": "stdout",
     "output_type": "stream",
     "text": [
      "EP 88, train loss = 0.009730987581274202, accuracy = 0.9957623456868094, IoU = 0.9849786252857838, dice = 0.9947422456696092\n",
      "Saved new best model at epoch 88 with IoU: 0.9849786252857838, Dice: 0.9947422456696092\n"
     ]
    },
    {
     "name": "stderr",
     "output_type": "stream",
     "text": [
      "100%|██████████| 264/264 [02:19<00:00,  1.89it/s]\n"
     ]
    },
    {
     "name": "stdout",
     "output_type": "stream",
     "text": [
      "EP 89, train loss = 0.009619151747500988, accuracy = 0.9958093730729264, IoU = 0.9851433587255243, dice = 0.9948004463818313\n",
      "Saved new best model at epoch 89 with IoU: 0.9851433587255243, Dice: 0.9948004463818313\n"
     ]
    },
    {
     "name": "stderr",
     "output_type": "stream",
     "text": [
      "100%|██████████| 264/264 [02:19<00:00,  1.89it/s]\n"
     ]
    },
    {
     "name": "stdout",
     "output_type": "stream",
     "text": [
      "EP 90, train loss = 0.009473201175497763, accuracy = 0.9958652611927923, IoU = 0.9853389411316424, dice = 0.994869237832824\n",
      "Saved new best model at epoch 90 with IoU: 0.9853389411316424, Dice: 0.994869237832824\n"
     ]
    },
    {
     "name": "stderr",
     "output_type": "stream",
     "text": [
      "100%|██████████| 264/264 [02:19<00:00,  1.89it/s]\n"
     ]
    },
    {
     "name": "stdout",
     "output_type": "stream",
     "text": [
      "EP 91, train loss = 0.009406468951173367, accuracy = 0.9959228741149975, IoU = 0.9855486897635053, dice = 0.9949419518801926\n",
      "Saved new best model at epoch 91 with IoU: 0.9855486897635053, Dice: 0.9949419518801926\n"
     ]
    },
    {
     "name": "stderr",
     "output_type": "stream",
     "text": [
      "100%|██████████| 264/264 [02:19<00:00,  1.89it/s]\n"
     ]
    },
    {
     "name": "stdout",
     "output_type": "stream",
     "text": [
      "EP 92, train loss = 0.009932438646791329, accuracy = 0.9956831915102602, IoU = 0.9847041020130975, dice = 0.994644771603977\n"
     ]
    },
    {
     "name": "stderr",
     "output_type": "stream",
     "text": [
      "100%|██████████| 264/264 [02:19<00:00,  1.89it/s]\n"
     ]
    },
    {
     "name": "stdout",
     "output_type": "stream",
     "text": [
      "EP 93, train loss = 0.00967693187126738, accuracy = 0.9958000135602716, IoU = 0.9851147844624022, dice = 0.9947893810679383\n"
     ]
    },
    {
     "name": "stderr",
     "output_type": "stream",
     "text": [
      "100%|██████████| 264/264 [02:19<00:00,  1.89it/s]\n"
     ]
    },
    {
     "name": "stdout",
     "output_type": "stream",
     "text": [
      "EP 94, train loss = 0.009048932152437983, accuracy = 0.9960580179768224, IoU = 0.9860307904529391, dice = 0.9951116785378791\n",
      "Saved new best model at epoch 94 with IoU: 0.9860307904529391, Dice: 0.9951116785378791\n"
     ]
    },
    {
     "name": "stderr",
     "output_type": "stream",
     "text": [
      "100%|██████████| 264/264 [02:19<00:00,  1.89it/s]\n"
     ]
    },
    {
     "name": "stdout",
     "output_type": "stream",
     "text": [
      "EP 95, train loss = 0.008896145625022263, accuracy = 0.9961144250077134, IoU = 0.9862303067656124, dice = 0.9951820037622832\n",
      "Saved new best model at epoch 95 with IoU: 0.9862303067656124, Dice: 0.9951820037622832\n"
     ]
    },
    {
     "name": "stderr",
     "output_type": "stream",
     "text": [
      "100%|██████████| 264/264 [02:19<00:00,  1.89it/s]\n"
     ]
    },
    {
     "name": "stdout",
     "output_type": "stream",
     "text": [
      "EP 96, train loss = 0.008829650789873933, accuracy = 0.9961441159248352, IoU = 0.9863282250950866, dice = 0.9952171595318268\n",
      "Saved new best model at epoch 96 with IoU: 0.9863282250950866, Dice: 0.9952171595318268\n"
     ]
    },
    {
     "name": "stderr",
     "output_type": "stream",
     "text": [
      "100%|██████████| 264/264 [02:19<00:00,  1.89it/s]\n"
     ]
    },
    {
     "name": "stdout",
     "output_type": "stream",
     "text": [
      "EP 97, train loss = 0.0087931502585704, accuracy = 0.9961627530644469, IoU = 0.9863868373847324, dice = 0.9952384492477837\n",
      "Saved new best model at epoch 97 with IoU: 0.9863868373847324, Dice: 0.9952384492477837\n"
     ]
    },
    {
     "name": "stderr",
     "output_type": "stream",
     "text": [
      "100%|██████████| 264/264 [02:19<00:00,  1.89it/s]\n"
     ]
    },
    {
     "name": "stdout",
     "output_type": "stream",
     "text": [
      "EP 98, train loss = 0.008972276770907403, accuracy = 0.9960896214452595, IoU = 0.9861349301727266, dice = 0.9951493427920839\n"
     ]
    },
    {
     "name": "stderr",
     "output_type": "stream",
     "text": [
      "100%|██████████| 264/264 [02:19<00:00,  1.89it/s]\n"
     ]
    },
    {
     "name": "stdout",
     "output_type": "stream",
     "text": [
      "EP 99, train loss = 0.008751248430100179, accuracy = 0.9961926792332977, IoU = 0.986496786125697, dice = 0.9952768894933886\n",
      "Saved new best model at epoch 99 with IoU: 0.986496786125697, Dice: 0.9952768894933886\n"
     ]
    },
    {
     "name": "stderr",
     "output_type": "stream",
     "text": [
      "100%|██████████| 264/264 [02:19<00:00,  1.89it/s]\n"
     ]
    },
    {
     "name": "stdout",
     "output_type": "stream",
     "text": [
      "EP 100, train loss = 0.00866670610711855, accuracy = 0.9962111057773713, IoU = 0.9865616597305892, dice = 0.995299623406137\n",
      "Saved new best model at epoch 100 with IoU: 0.9865616597305892, Dice: 0.995299623406137\n",
      "Best model was saved at epoch 100 with IoU: 0.9865616597305892, Dice: 0.995299623406137\n"
     ]
    }
   ],
   "source": [
    "best_iou = 0.0\n",
    "best_dice = 0.0\n",
    "best_epoch = 0\n",
    "\n",
    "# Kiểm tra xem có nhiều hơn một GPU hay không và bọc mô hình trong DataParallel nếu có\n",
    "if torch.cuda.device_count() > 1:\n",
    "    print(\"Let's use\", torch.cuda.device_count(), \"GPUs!\")\n",
    "    model = nn.DataParallel(model)\n",
    "\n",
    "model = model.to(device)\n",
    "\n",
    "for ep in range(1, 1+n_eps):\n",
    "    acc_meter.reset()\n",
    "    train_loss_meter.reset()\n",
    "    dice_meter.reset()\n",
    "    iou_meter.reset()\n",
    "    model.train()\n",
    "\n",
    "    for batch_id, (x, y) in enumerate(tqdm(trainloader), start=1):\n",
    "        optimizer.zero_grad()\n",
    "        n = x.shape[0]\n",
    "        x = x.to(device).float()\n",
    "        y = y.to(device).float()\n",
    "        y_hat = model(x)\n",
    "        y_hat = y_hat.squeeze()  # -> logit (-vc, +vc)\n",
    "        loss = criterion(y_hat, y)\n",
    "        loss.backward()\n",
    "        optimizer.step()\n",
    "\n",
    "        with torch.no_grad():\n",
    "            y_hat_mask = y_hat.sigmoid().round().long()  # -> mask (0, 1)\n",
    "            dice_score = dice_fn(y_hat_mask, y.long())\n",
    "            iou_score = iou_fn(y_hat_mask, y.long())\n",
    "            accuracy = accuracy_function(y_hat_mask, y.long())\n",
    "\n",
    "            train_loss_meter.update(loss.item(), n)\n",
    "            iou_meter.update(iou_score.item(), n)\n",
    "            dice_meter.update(dice_score.item(), n)\n",
    "            acc_meter.update(accuracy.item(), n)\n",
    "\n",
    "    print(f\"EP {ep}, train loss = {train_loss_meter.avg}, accuracy = {acc_meter.avg}, IoU = {iou_meter.avg}, dice = {dice_meter.avg}\")\n",
    "\n",
    "    # Kiểm tra xem epoch hiện tại có chỉ số IoU và Dice tốt nhất không\n",
    "    if iou_meter.avg > best_iou or dice_meter.avg > best_dice:\n",
    "        best_iou = max(iou_meter.avg, best_iou)\n",
    "        best_dice = max(dice_meter.avg, best_dice)\n",
    "        best_epoch = ep\n",
    "        # Lưu mô hình nếu nó là tốt nhất cho đến thời điểm hiện tại\n",
    "        model_to_save = model.module if isinstance(model, nn.DataParallel) else model\n",
    "        torch.save(model_to_save.state_dict(), f\"best_model_epoch_{best_epoch}.pth\")\n",
    "        print(f\"Saved new best model at epoch {ep} with IoU: {best_iou}, Dice: {best_dice}\")\n",
    "\n",
    "print(f\"Best model was saved at epoch {best_epoch} with IoU: {best_iou}, Dice: {best_dice}\")"
   ]
  },
  {
   "cell_type": "code",
   "execution_count": 14,
   "id": "b71646d8",
   "metadata": {
    "execution": {
     "iopub.execute_input": "2024-06-28T20:56:57.852925Z",
     "iopub.status.busy": "2024-06-28T20:56:57.852554Z",
     "iopub.status.idle": "2024-06-28T20:57:07.616062Z",
     "shell.execute_reply": "2024-06-28T20:57:07.614722Z"
    },
    "papermill": {
     "duration": 11.981096,
     "end_time": "2024-06-28T20:57:07.618623",
     "exception": false,
     "start_time": "2024-06-28T20:56:55.637527",
     "status": "completed"
    },
    "tags": []
   },
   "outputs": [
    {
     "name": "stderr",
     "output_type": "stream",
     "text": [
      "100%|██████████| 50/50 [00:09<00:00,  5.13it/s]"
     ]
    },
    {
     "name": "stdout",
     "output_type": "stream",
     "text": [
      "TEST: IoU = 0.9530380771129946, dice = 0.9833286182789863\n"
     ]
    },
    {
     "name": "stderr",
     "output_type": "stream",
     "text": [
      "\n"
     ]
    }
   ],
   "source": [
    "model.eval()\n",
    "test_iou_meter = AverageMeter()\n",
    "test_dice_meter = AverageMeter()\n",
    "with torch.no_grad():\n",
    "    for batch_id, (x, y) in enumerate(tqdm(testloader), start=1):\n",
    "        n = x.shape[0]\n",
    "        x = x.to(device).float()\n",
    "        y = y.to(device).float()\n",
    "        y_hat = model(x)\n",
    "        y_hat = y_hat.squeeze()\n",
    "        y_hat_mask = y_hat.sigmoid().round().long()\n",
    "        dice_score = dice_fn(y_hat_mask, y.long())\n",
    "        iou_score = iou_fn(y_hat_mask, y.long())\n",
    "        test_dice_meter.update(dice_score.item(), n)\n",
    "        test_iou_meter.update(iou_score.item(), n)\n",
    "print(\"TEST: IoU = {}, dice = {}\".format(test_iou_meter.avg, test_dice_meter.avg))"
   ]
  },
  {
   "cell_type": "code",
   "execution_count": 15,
   "id": "25ffcb98",
   "metadata": {
    "execution": {
     "iopub.execute_input": "2024-06-28T20:57:11.899126Z",
     "iopub.status.busy": "2024-06-28T20:57:11.898766Z",
     "iopub.status.idle": "2024-06-28T20:57:12.437539Z",
     "shell.execute_reply": "2024-06-28T20:57:12.436642Z"
    },
    "papermill": {
     "duration": 2.712324,
     "end_time": "2024-06-28T20:57:12.439660",
     "exception": false,
     "start_time": "2024-06-28T20:57:09.727336",
     "status": "completed"
    },
    "tags": []
   },
   "outputs": [
    {
     "data": {
      "image/png": "[encoded data removed]",
      "text/plain": [
       "<Figure size 640x480 with 3 Axes>"
      ]
     },
     "metadata": {},
     "output_type": "display_data"
    }
   ],
   "source": [
    "import random\n",
    "\n",
    "model.eval()\n",
    "idx = random.randint(0, 100)\n",
    "with torch.no_grad():\n",
    "    x, y = test_dataset[idx]\n",
    "    # print(x.shape, y.shape) (C, H, W) -> (1, C, H, W) -> model\n",
    "    x = x.to(device).float().unsqueeze(0)\n",
    "    y_hat = model(x).squeeze() #(1, 1, H, W) -> (H, W)\n",
    "    y_hat_mask = y_hat.sigmoid().round().long()\n",
    "    # x, y, y_hat_mask\n",
    "    plt.subplot(1, 3, 1)\n",
    "    plt.imshow(unorm(x.squeeze().cpu()).permute(1, 2, 0)) # x (GPU) -> x(CPU)\n",
    "    plt.subplot(1, 3, 2)\n",
    "    plt.imshow(y)\n",
    "    plt.subplot(1, 3, 3)\n",
    "    plt.imshow(y_hat_mask.cpu())"
   ]
  }
 ],
 "metadata": {
  "kaggle": {
   "accelerator": "gpu",
   "dataSources": [
    {
     "datasetId": 4834765,
     "sourceId": 8169932,
     "sourceType": "datasetVersion"
    }
   ],
   "dockerImageVersionId": 30698,
   "isGpuEnabled": true,
   "isInternetEnabled": true,
   "language": "python",
   "sourceType": "notebook"
  },
  "kernelspec": {
   "display_name": "Python 3",
   "language": "python",
   "name": "python3"
  },
  "language_info": {
   "codemirror_mode": {
    "name": "ipython",
    "version": 3
   },
   "file_extension": ".py",
   "mimetype": "text/x-python",
   "name": "python",
   "nbconvert_exporter": "python",
   "pygments_lexer": "ipython3",
   "version": "3.10.13"
  },
  "papermill": {
   "default_parameters": {},
   "duration": 14097.476297,
   "end_time": "2024-06-28T20:57:16.997135",
   "environment_variables": {},
   "exception": null,
   "input_path": "__notebook__.ipynb",
   "output_path": "__notebook__.ipynb",
   "parameters": {},
   "start_time": "2024-06-28T17:02:19.520838",
   "version": "2.5.0"
  }
 },
 "nbformat": 4,
 "nbformat_minor": 5
}
