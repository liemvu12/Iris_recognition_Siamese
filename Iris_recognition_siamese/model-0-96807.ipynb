{
 "cells": [
  {
   "cell_type": "code",
   "execution_count": 1,
   "id": "a2492320",
   "metadata": {
    "_cell_guid": "b1076dfc-b9ad-4769-8c92-a6c4dae69d19",
    "_uuid": "8f2839f25d086af736a60e9eeb907d3b93b6e0e5",
    "execution": {
     "iopub.execute_input": "2024-06-12T11:42:13.674611Z",
     "iopub.status.busy": "2024-06-12T11:42:13.674276Z",
     "iopub.status.idle": "2024-06-12T11:42:19.167273Z",
     "shell.execute_reply": "2024-06-12T11:42:19.166359Z"
    },
    "papermill": {
     "duration": 5.503759,
     "end_time": "2024-06-12T11:42:19.170230",
     "exception": false,
     "start_time": "2024-06-12T11:42:13.666471",
     "status": "completed"
    },
    "tags": []
   },
   "outputs": [
    {
     "name": "stdout",
     "output_type": "stream",
     "text": [
      "/kaggle/input/mydata-new/mydata/vali/S1167L/S1167L08.jpg\n",
      "/kaggle/input/mydata-new/mydata/vali/S1167L/S1167L01.jpg\n",
      "/kaggle/input/mydata-new/mydata/vali/S1043L/S1043L06.jpg\n",
      "/kaggle/input/mydata-new/mydata/vali/S1043L/S1043L09.jpg\n",
      "/kaggle/input/mydata-new/mydata/vali/S1212L/S1212L01.jpg\n",
      "/kaggle/input/mydata-new/mydata/vali/S1212L/S1212L05.jpg\n",
      "/kaggle/input/mydata-new/mydata/vali/S1168R/S1168R06.jpg\n",
      "/kaggle/input/mydata-new/mydata/vali/S1168R/S1168R05.jpg\n",
      "/...\n",
      "/kaggle/input/roi-output2/ROI_output/train/S1097R/S1097R07.jpg\n",
      "/kaggle/input/roi-output2/ROI_output/train/S1097R/S1097R01.jpg\n",
      "/kaggle/input/roi-output2/ROI_output/train/S1097R/S1097R03.jpg\n",
      "/kaggle/input/roi-output2/ROI_output/train/S1097R/S1097R05.jpg\n",
      "/kaggle/input/roi-output2/ROI_output/train/S1097R/S1097R02.jpg\n",
      "/kaggle/input/roi-output2/ROI_output/train/S1012R/S1012R06.jpg\n",
      "/kaggle/input/roi-output2/ROI_output/train/S1012R/S1012R05.jpg\n",
      "/kaggle/input/roi-output2/ROI_output/train/S1012R/S1012R01.jpg\n",
      "/kaggle/input/roi-output2/ROI_output/train/S1012R/S1012R04.jpg\n",
      "/kaggle/input/roi-output2/ROI_output/train/S1012R/S1012R02.jpg\n",
      "/kaggle/input/roi-output2/ROI_output/train/S1012R/S1012R03.jpg\n"
     ]
    }
   ],
   "source": [
    "# This Python 3 environment comes with many helpful analytics libraries installed\n",
    "# It is defined by the kaggle/python Docker image: https://github.com/kaggle/docker-python\n",
    "# For example, here's several helpful packages to load\n",
    "\n",
    "import numpy as np # linear algebra\n",
    "import pandas as pd # data processing, CSV file I/O (e.g. pd.read_csv)\n",
    "\n",
    "# Input data files are available in the read-only \"../input/\" directory\n",
    "# For example, running this (by clicking run or pressing Shift+Enter) will list all files under the input directory\n",
    "\n",
    "import os\n",
    "for dirname, _, filenames in os.walk('/kaggle/input'):\n",
    "    for filename in filenames:\n",
    "        print(os.path.join(dirname, filename))\n",
    "\n",
    "# You can write up to 20GB to the current directory (/kaggle/working/) that gets preserved as output when you create a version using \"Save & Run All\" \n",
    "# You can also write temporary files to /kaggle/temp/, but they won't be saved outside of the current session"
   ]
  },
  {
   "cell_type": "code",
   "execution_count": 2,
   "id": "c7b7f6bd",
   "metadata": {
    "execution": {
     "iopub.execute_input": "2024-06-12T11:42:19.203803Z",
     "iopub.status.busy": "2024-06-12T11:42:19.202868Z",
     "iopub.status.idle": "2024-06-12T11:42:38.863910Z",
     "shell.execute_reply": "2024-06-12T11:42:38.862713Z"
    },
    "papermill": {
     "duration": 19.680698,
     "end_time": "2024-06-12T11:42:38.866503",
     "exception": false,
     "start_time": "2024-06-12T11:42:19.185805",
     "status": "completed"
    },
    "tags": []
   },
   "outputs": [
    {
     "name": "stderr",
     "output_type": "stream",
     "text": [
      "2024-06-12 11:42:24.554357: E external/local_xla/xla/stream_executor/cuda/cuda_dnn.cc:9261] Unable to register cuDNN factory: Attempting to register factory for plugin cuDNN when one has already been registered\n",
      "2024-06-12 11:42:24.554461: E external/local_xla/xla/stream_executor/cuda/cuda_fft.cc:607] Unable to register cuFFT factory: Attempting to register factory for plugin cuFFT when one has already been registered\n",
      "2024-06-12 11:42:24.682313: E external/local_xla/xla/stream_executor/cuda/cuda_blas.cc:1515] Unable to register cuBLAS factory: Attempting to register factory for plugin cuBLAS when one has already been registered\n",
      "/tmp/ipykernel_25/2860380791.py:15: DeprecationWarning: the imp module is deprecated in favour of importlib and slated for removal in Python 3.12; see the module's documentation for alternative uses\n",
      "  import imp\n"
     ]
    }
   ],
   "source": [
    "import torch\n",
    "import torch.nn as nn\n",
    "import torch.nn.functional as F\n",
    "import torch.optim as optim\n",
    "import random\n",
    "from random import randint\n",
    "import time\n",
    "import matplotlib.pyplot as plt\n",
    "import numpy as np\n",
    "%matplotlib inline\n",
    "import tensorflow as tf\n",
    "import matplotlib.pyplot as plt\n",
    "from scipy.io import loadmat\n",
    "import numpy as np\n",
    "import imp\n",
    "from IPython.display import clear_output\n",
    "import pandas as pd\n",
    "bs = 64\n",
    "\n",
    "from torch.utils.data import Dataset, DataLoader\n",
    "import torchmetrics\n",
    "from torchmetrics import Dice, JaccardIndex\n",
    "import albumentations as A\n",
    "from albumentations.pytorch import ToTensorV2 # np.array -> torch.tensor\n",
    "import os\n",
    "from tqdm import tqdm\n",
    "from glob import glob\n",
    "\n",
    "import random\n",
    "from PIL import Image\n",
    "import PIL.ImageOps    \n",
    "\n",
    "import torchvision\n",
    "import torchvision.datasets as datasets\n",
    "import torchvision.transforms as transforms\n",
    "import torchvision.utils\n",
    "from torch.autograd import Variable"
   ]
  },
  {
   "cell_type": "code",
   "execution_count": 3,
   "id": "52cd49e2",
   "metadata": {
    "execution": {
     "iopub.execute_input": "2024-06-12T11:42:38.912449Z",
     "iopub.status.busy": "2024-06-12T11:42:38.911173Z",
     "iopub.status.idle": "2024-06-12T11:42:38.918596Z",
     "shell.execute_reply": "2024-06-12T11:42:38.917685Z"
    },
    "papermill": {
     "duration": 0.035516,
     "end_time": "2024-06-12T11:42:38.920964",
     "exception": false,
     "start_time": "2024-06-12T11:42:38.885448",
     "status": "completed"
    },
    "tags": []
   },
   "outputs": [],
   "source": [
    "# Creating some helper functions\n",
    "def imshow(img, text=None):\n",
    "    npimg = img.numpy()\n",
    "    plt.axis(\"off\")\n",
    "    if text:\n",
    "        plt.text(75, 8, text, style='italic',fontweight='bold',\n",
    "            bbox={'facecolor':'white', 'alpha':0.8, 'pad':10})\n",
    "        \n",
    "    plt.imshow(np.transpose(npimg, (1, 2, 0)))\n",
    "    plt.show()    \n",
    "\n",
    "def show_plot(iteration,loss):\n",
    "    plt.plot(iteration,loss)\n",
    "    plt.show()"
   ]
  },
  {
   "cell_type": "code",
   "execution_count": 4,
   "id": "3aecc0d0",
   "metadata": {
    "execution": {
     "iopub.execute_input": "2024-06-12T11:42:38.954337Z",
     "iopub.status.busy": "2024-06-12T11:42:38.954045Z",
     "iopub.status.idle": "2024-06-12T11:42:38.963786Z",
     "shell.execute_reply": "2024-06-12T11:42:38.962871Z"
    },
    "papermill": {
     "duration": 0.028308,
     "end_time": "2024-06-12T11:42:38.965717",
     "exception": false,
     "start_time": "2024-06-12T11:42:38.937409",
     "status": "completed"
    },
    "tags": []
   },
   "outputs": [],
   "source": [
    "class SiameseNetworkDataset(Dataset):\n",
    "    def __init__(self,imageFolderDataset,transform=None):\n",
    "        self.imageFolderDataset = imageFolderDataset    \n",
    "        self.transform = transform\n",
    "        \n",
    "    def __getitem__(self,index):\n",
    "        img0_tuple = random.choice(self.imageFolderDataset.imgs)\n",
    "\n",
    "        #We need to approximately 50% of images to be in the same class\n",
    "        should_get_same_class = random.randint(0,1) \n",
    "        if should_get_same_class:\n",
    "            while True:\n",
    "                #Look untill the same class image is found\n",
    "                img1_tuple = random.choice(self.imageFolderDataset.imgs) \n",
    "                if img0_tuple[1] == img1_tuple[1]:\n",
    "                    break\n",
    "        else:\n",
    "\n",
    "            while True:\n",
    "                #Look untill a different class image is found\n",
    "                img1_tuple = random.choice(self.imageFolderDataset.imgs) \n",
    "                if img0_tuple[1] != img1_tuple[1]:\n",
    "                    break\n",
    "\n",
    "        img0 = Image.open(img0_tuple[0])\n",
    "        img1 = Image.open(img1_tuple[0])\n",
    "\n",
    "        img0 = img0.convert(\"L\")\n",
    "        img1 = img1.convert(\"L\")\n",
    "\n",
    "        if self.transform is not None:\n",
    "            img0 = self.transform(img0)\n",
    "            img1 = self.transform(img1)\n",
    "        \n",
    "        return img0, img1, torch.from_numpy(np.array([int(img1_tuple[1] != img0_tuple[1])], dtype=np.float32))\n",
    "    \n",
    "    def __len__(self):\n",
    "        return len(self.imageFolderDataset.imgs)"
   ]
  },
  {
   "cell_type": "code",
   "execution_count": 5,
   "id": "6b48bdfa",
   "metadata": {
    "execution": {
     "iopub.execute_input": "2024-06-12T11:42:38.997588Z",
     "iopub.status.busy": "2024-06-12T11:42:38.997294Z",
     "iopub.status.idle": "2024-06-12T11:42:39.577677Z",
     "shell.execute_reply": "2024-06-12T11:42:39.576864Z"
    },
    "papermill": {
     "duration": 0.599035,
     "end_time": "2024-06-12T11:42:39.580079",
     "exception": false,
     "start_time": "2024-06-12T11:42:38.981044",
     "status": "completed"
    },
    "tags": []
   },
   "outputs": [],
   "source": [
    "# Load the training dataset\n",
    "folder_dataset_train = datasets.ImageFolder(root=\"/kaggle/input/roi-output2/ROI_output/train\")\n",
    "folder_dataset_test = datasets.ImageFolder(root=\"/kaggle/input/roi-output2/ROI_output/test\")"
   ]
  },
  {
   "cell_type": "code",
   "execution_count": 6,
   "id": "e6846944",
   "metadata": {
    "execution": {
     "iopub.execute_input": "2024-06-12T11:42:39.613779Z",
     "iopub.status.busy": "2024-06-12T11:42:39.613457Z",
     "iopub.status.idle": "2024-06-12T11:42:39.621535Z",
     "shell.execute_reply": "2024-06-12T11:42:39.620598Z"
    },
    "papermill": {
     "duration": 0.027041,
     "end_time": "2024-06-12T11:42:39.623461",
     "exception": false,
     "start_time": "2024-06-12T11:42:39.596420",
     "status": "completed"
    },
    "tags": []
   },
   "outputs": [],
   "source": [
    "# Resize the images and transform to tensors\n",
    "train_transformation = transforms.Compose([\n",
    "    transforms.Resize((200, 200)),  # Thay đổi kích thước ảnh về 200x200\n",
    "    transforms.RandomHorizontalFlip(p=0.5),  # Lật ngang ảnh với xác suất 50%\n",
    "    transforms.RandomVerticalFlip(p=0.5),  # Lật dọc ảnh với xác suất 50%\n",
    "    transforms.RandomRotation(degrees=30),  # Xoay ngẫu nhiên ảnh trong khoảng 30 độ\n",
    "    transforms.ColorJitter(brightness=0.2, contrast=0.2, saturation=0.2, hue=0.2),  # Điều chỉnh độ sáng, tương phản, bão hòa màu và màu sắc ngẫu nhiên\n",
    "    transforms.ToTensor(),  # Chuyển đổi ảnh sang tensor\n",
    "])\n",
    "\n",
    "test_transformation = transforms.Compose([\n",
    "    transforms.Resize((200, 200)),  # Thay đổi kích thước ảnh về 200x200\n",
    "    transforms.ToTensor(),  # Chuyển đổi ảnh sang tensor\n",
    "])\n",
    "# Initialize the network\n",
    "siamese_dataset = SiameseNetworkDataset(imageFolderDataset=folder_dataset_train,\n",
    "                                        transform=train_transformation)\n",
    "siamese_dataset_test = SiameseNetworkDataset(imageFolderDataset=folder_dataset_test,\n",
    "                                        transform=test_transformation)"
   ]
  },
  {
   "cell_type": "code",
   "execution_count": 7,
   "id": "d317d591",
   "metadata": {
    "execution": {
     "iopub.execute_input": "2024-06-12T11:42:39.656878Z",
     "iopub.status.busy": "2024-06-12T11:42:39.656350Z",
     "iopub.status.idle": "2024-06-12T11:42:39.737167Z",
     "shell.execute_reply": "2024-06-12T11:42:39.736135Z"
    },
    "papermill": {
     "duration": 0.099775,
     "end_time": "2024-06-12T11:42:39.739186",
     "exception": false,
     "start_time": "2024-06-12T11:42:39.639411",
     "status": "completed"
    },
    "tags": []
   },
   "outputs": [
    {
     "name": "stdout",
     "output_type": "stream",
     "text": [
      "Kích thước của 1 ảnh sau khi áp dụng biến đổi: torch.Size([1, 200, 200])\n",
      "Kích thước của 1 phần tử trong siamese_dataset: 2600\n"
     ]
    }
   ],
   "source": [
    "# In ra kích thước của 1 ảnh sau khi áp dụng biến đổi\n",
    "sample_img = siamese_dataset[0][0]\n",
    "print(\"Kích thước của 1 ảnh sau khi áp dụng biến đổi:\", sample_img.shape)\n",
    "\n",
    "# In ra kích thước của 1 phần tử trong siamese_dataset\n",
    "sample_element = siamese_dataset[0]\n",
    "print(\"Kích thước của 1 phần tử trong siamese_dataset:\", len(siamese_dataset))\n"
   ]
  },
  {
   "cell_type": "code",
   "execution_count": 8,
   "id": "f19ece4b",
   "metadata": {
    "execution": {
     "iopub.execute_input": "2024-06-12T11:42:39.772117Z",
     "iopub.status.busy": "2024-06-12T11:42:39.771813Z",
     "iopub.status.idle": "2024-06-12T11:42:40.324490Z",
     "shell.execute_reply": "2024-06-12T11:42:40.323529Z"
    },
    "papermill": {
     "duration": 0.572325,
     "end_time": "2024-06-12T11:42:40.327432",
     "exception": false,
     "start_time": "2024-06-12T11:42:39.755107",
     "status": "completed"
    },
    "tags": []
   },
   "outputs": [
    {
     "name": "stderr",
     "output_type": "stream",
     "text": [
      "/opt/conda/lib/python3.10/multiprocessing/popen_fork.py:66: RuntimeWarning: os.fork() was called. os.fork() is incompatible with multithreaded code, and JAX is multithreaded, so this will likely lead to a deadlock.\n",
      "  self.pid = os.fork()\n",
      "/opt/conda/lib/python3.10/multiprocessing/popen_fork.py:66: RuntimeWarning: os.fork() was called. os.fork() is incompatible with multithreaded code, and JAX is multithreaded, so this will likely lead to a deadlock.\n",
      "  self.pid = os.fork()\n"
     ]
    },
    {
     "data": {
      "image/png": "[encoded data removed]",
      "text/plain": [
       "<Figure size 640x480 with 1 Axes>"
      ]
     },
     "metadata": {},
     "output_type": "display_data"
    },
    {
     "name": "stdout",
     "output_type": "stream",
     "text": [
      "[0. 0. 0. 0. 1. 1. 1. 0.]\n"
     ]
    }
   ],
   "source": [
    "# Create a simple dataloader just for simple visualization\n",
    "vis_dataloader = DataLoader(siamese_dataset,\n",
    "                        shuffle=True,\n",
    "                        num_workers=2,\n",
    "                        batch_size=8)\n",
    "\n",
    "# Extract one batch\n",
    "example_batch = next(iter(vis_dataloader))\n",
    "\n",
    "# Example batch is a list containing 2x8 images, indexes 0 and 1, an also the label\n",
    "# If the label is 0, it means that it is not the same person, label is 1, same person in both images\n",
    "concatenated = torch.cat((example_batch[0], example_batch[1]),0)\n",
    "\n",
    "imshow(torchvision.utils.make_grid(concatenated))\n",
    "print(example_batch[2].numpy().reshape(-1))"
   ]
  },
  {
   "cell_type": "code",
   "execution_count": 9,
   "id": "74aa07bb",
   "metadata": {
    "execution": {
     "iopub.execute_input": "2024-06-12T11:42:40.364914Z",
     "iopub.status.busy": "2024-06-12T11:42:40.364029Z",
     "iopub.status.idle": "2024-06-12T11:42:40.368806Z",
     "shell.execute_reply": "2024-06-12T11:42:40.367959Z"
    },
    "papermill": {
     "duration": 0.025823,
     "end_time": "2024-06-12T11:42:40.370778",
     "exception": false,
     "start_time": "2024-06-12T11:42:40.344955",
     "status": "completed"
    },
    "tags": []
   },
   "outputs": [],
   "source": [
    "siamese_dataloader = DataLoader(siamese_dataset, batch_size=bs , shuffle = True)\n"
   ]
  },
  {
   "cell_type": "code",
   "execution_count": 10,
   "id": "f0260148",
   "metadata": {
    "execution": {
     "iopub.execute_input": "2024-06-12T11:42:40.416235Z",
     "iopub.status.busy": "2024-06-12T11:42:40.415405Z",
     "iopub.status.idle": "2024-06-12T11:42:40.422855Z",
     "shell.execute_reply": "2024-06-12T11:42:40.421826Z"
    },
    "papermill": {
     "duration": 0.028558,
     "end_time": "2024-06-12T11:42:40.424988",
     "exception": false,
     "start_time": "2024-06-12T11:42:40.396430",
     "status": "completed"
    },
    "tags": []
   },
   "outputs": [],
   "source": [
    "distance = nn.PairwiseDistance(p=1)\n",
    "class ContrastiveLoss(torch.nn.Module):\n",
    "    def __init__(self, margin=2.0):\n",
    "        super(ContrastiveLoss, self).__init__()\n",
    "        self.margin = margin\n",
    "\n",
    "    def forward(self, output1, output2, label):\n",
    "      # Calculate the euclidian distance and calculate the contrastive loss\n",
    "      euclidean_distance = F.pairwise_distance(output1, output2, keepdim = True)\n",
    "\n",
    "      loss_contrastive = torch.mean((1-label) * torch.pow(euclidean_distance, 2) +\n",
    "                                    (label) * torch.pow(torch.clamp(self.margin - euclidean_distance, min=0.0), 2))\n",
    "\n",
    "\n",
    "      return loss_contrastive"
   ]
  },
  {
   "cell_type": "code",
   "execution_count": 11,
   "id": "08052070",
   "metadata": {
    "execution": {
     "iopub.execute_input": "2024-06-12T11:42:40.462348Z",
     "iopub.status.busy": "2024-06-12T11:42:40.461486Z",
     "iopub.status.idle": "2024-06-12T11:42:54.062691Z",
     "shell.execute_reply": "2024-06-12T11:42:54.061688Z"
    },
    "papermill": {
     "duration": 13.621956,
     "end_time": "2024-06-12T11:42:54.064945",
     "exception": false,
     "start_time": "2024-06-12T11:42:40.442989",
     "status": "completed"
    },
    "tags": []
   },
   "outputs": [],
   "source": [
    "!pip install einops\n",
    "clear_output()"
   ]
  },
  {
   "cell_type": "code",
   "execution_count": 12,
   "id": "00bc91e6",
   "metadata": {
    "execution": {
     "iopub.execute_input": "2024-06-12T11:42:54.100711Z",
     "iopub.status.busy": "2024-06-12T11:42:54.100369Z",
     "iopub.status.idle": "2024-06-12T11:42:54.124313Z",
     "shell.execute_reply": "2024-06-12T11:42:54.123557Z"
    },
    "papermill": {
     "duration": 0.044153,
     "end_time": "2024-06-12T11:42:54.126292",
     "exception": false,
     "start_time": "2024-06-12T11:42:54.082139",
     "status": "completed"
    },
    "tags": []
   },
   "outputs": [],
   "source": [
    "import torch\n",
    "import numpy as np\n",
    "from torch import nn\n",
    "from einops.layers.torch import Rearrange\n",
    "\n",
    "\n",
    "class FeedForward(nn.Module):\n",
    "    def __init__(self, dim, hidden_dim, dropout = 0.2):\n",
    "        super().__init__()\n",
    "        self.net = nn.Sequential(\n",
    "            nn.Linear(dim, hidden_dim),\n",
    "            nn.GELU(),\n",
    "            nn.Dropout(dropout),\n",
    "            nn.Linear(hidden_dim, dim),\n",
    "            nn.Dropout(dropout)\n",
    "        )\n",
    "    def forward(self, x):\n",
    "        return self.net(x)\n",
    "\n",
    "class MixerBlock(nn.Module):\n",
    "    def __init__(self, dim, num_patch, token_dim, channel_dim, dropout = 0.2):\n",
    "        super().__init__()\n",
    "        \n",
    "        self.token_mix = nn.Sequential(\n",
    "            nn.LayerNorm(dim),\n",
    "            Rearrange('b n d -> b d n'),\n",
    "            FeedForward(num_patch, token_dim, dropout),\n",
    "            Rearrange('b d n -> b n d')\n",
    "        )\n",
    "        \n",
    "        self.channel_mix = nn.Sequential(\n",
    "            nn.LayerNorm(dim),\n",
    "            FeedForward(dim, channel_dim, dropout),\n",
    "        )\n",
    "    def forward(self, x):\n",
    "        x = x + self.token_mix(x)\n",
    "        x = x + self.channel_mix(x)\n",
    "        \n",
    "        \n",
    "        return x\n",
    "\n",
    "\n",
    "class HybridModel(nn.Module):\n",
    "    def __init__(self, in_channels, dim, inner_dim, num_classes, depth, token_dim, channel_dim):\n",
    "        super().__init__()\n",
    "\n",
    "        self.conv = nn.Sequential(\n",
    "            nn.Conv2d(in_channels,inner_dim,kernel_size=3,padding=1),  # Thay đổi in_channels thành 3\n",
    "            nn.MaxPool2d(kernel_size=2),\n",
    "            nn.BatchNorm2d(inner_dim),\n",
    "            nn.GELU(),\n",
    "            nn.Conv2d(inner_dim,dim,kernel_size=3,padding=1),\n",
    "            nn.MaxPool2d(kernel_size=2),\n",
    "            nn.BatchNorm2d(dim),\n",
    "            nn.GELU(),\n",
    "            Rearrange('b c h w -> b (h w) c'),\n",
    "        )\n",
    "        \n",
    "        self.mixer_blocks = nn.ModuleList([])\n",
    "        for _ in range(depth):\n",
    "            self.mixer_blocks.append(MixerBlock(dim, 256, token_dim, channel_dim))\n",
    "\n",
    "        self.layer_norm = nn.LayerNorm(dim)\n",
    "        self.linear = nn.Linear(dim, num_classes)\n",
    "\n",
    "    def forward(self, x):\n",
    "        x = self.conv(x)\n",
    "        for mixer_block in self.mixer_blocks:\n",
    "            x = mixer_block(x)\n",
    "        x = self.layer_norm(x)\n",
    "        x = x.mean(dim=1)\n",
    "        x = self.linear(x)\n",
    "        return x"
   ]
  },
  {
   "cell_type": "code",
   "execution_count": 13,
   "id": "eb4b98b4",
   "metadata": {
    "execution": {
     "iopub.execute_input": "2024-06-12T11:42:54.161088Z",
     "iopub.status.busy": "2024-06-12T11:42:54.160815Z",
     "iopub.status.idle": "2024-06-12T11:42:54.319753Z",
     "shell.execute_reply": "2024-06-12T11:42:54.318723Z"
    },
    "papermill": {
     "duration": 0.178872,
     "end_time": "2024-06-12T11:42:54.322147",
     "exception": false,
     "start_time": "2024-06-12T11:42:54.143275",
     "status": "completed"
    },
    "tags": []
   },
   "outputs": [
    {
     "data": {
      "text/plain": [
       "torch.Size([1, 2])"
      ]
     },
     "execution_count": 13,
     "metadata": {},
     "output_type": "execute_result"
    }
   ],
   "source": [
    "model1 = HybridModel(in_channels=1, num_classes=2, dim=256, inner_dim=128, depth=1, token_dim=512, channel_dim=512)\n",
    "checking = torch.rand([1,1,64,64])\n",
    "model1(checking).shape"
   ]
  },
  {
   "cell_type": "code",
   "execution_count": 14,
   "id": "675abdc2",
   "metadata": {
    "execution": {
     "iopub.execute_input": "2024-06-12T11:42:54.358133Z",
     "iopub.status.busy": "2024-06-12T11:42:54.357763Z",
     "iopub.status.idle": "2024-06-12T11:42:54.370722Z",
     "shell.execute_reply": "2024-06-12T11:42:54.369817Z"
    },
    "papermill": {
     "duration": 0.032692,
     "end_time": "2024-06-12T11:42:54.372670",
     "exception": false,
     "start_time": "2024-06-12T11:42:54.339978",
     "status": "completed"
    },
    "tags": []
   },
   "outputs": [],
   "source": [
    "class convMixerLayer(nn.Module):\n",
    "    def __init__(self, in_channel, out_channel, kernel_size) -> None:\n",
    "        super().__init__()\n",
    "        self.depthwise = nn.Conv2d(\n",
    "            in_channels=in_channel, \n",
    "            out_channels=out_channel, \n",
    "            groups=in_channel, \n",
    "            kernel_size=kernel_size,\n",
    "            stride=1,\n",
    "            padding=\"same\"\n",
    "        )\n",
    "        self.pointwise = nn.Conv2d(in_channel, out_channel, 1, 1)\n",
    "        self.activation = nn.GELU()\n",
    "        self.batchnorm1 = nn.BatchNorm2d(out_channel)\n",
    "        self.batchnorm2 = nn.BatchNorm2d(out_channel)\n",
    "        #self.trans = MHSA(n_dims = out_channel, width=64, height=64, heads=4)\n",
    "    \n",
    "    def forward(self, x):\n",
    "        ori = x\n",
    "        #x = self.trans(x)\n",
    "        x = self.depthwise(x)\n",
    "        x = self.activation(x)\n",
    "        x = self.batchnorm1(x) + ori\n",
    "        x = self.pointwise(x)\n",
    "        x = self.activation(x)\n",
    "        x = self.batchnorm2(x)\n",
    "        return x\n",
    "\n",
    "class SiameseNetwork(nn.Module):\n",
    "    def __init__(self, patch_size = 3, kernel_size = 3, h = 64, depth = 10, num_classes = 2) -> None:\n",
    "        super().__init__()\n",
    "        self.depth = depth\n",
    "        self.patch_embed = nn.Sequential(\n",
    "            nn.Conv2d(in_channels=1, out_channels=h, kernel_size=patch_size, stride=patch_size),  # Thay đổi in_channels thành 3\n",
    "            nn.GELU(),\n",
    "            nn.BatchNorm2d(h)\n",
    "        )\n",
    "        convmix = [convMixerLayer(h, h, kernel_size) for i in range(depth)]\n",
    "        self.convmix = nn.Sequential(*convmix)\n",
    "        self.gbpool = nn.AdaptiveAvgPool2d((1, 1))\n",
    "        self.linear = nn.Linear(h, num_classes)\n",
    "        #self.trans = MHSA(n_dims = h, width=21, height=21, heads=4)\n",
    "    \n",
    "    def forward(self, x):\n",
    "        x = self.patch_embed(x)\n",
    "        x = self.convmix(x)\n",
    "        #---Transformer---#\n",
    "        #x = self.trans(x)\n",
    "        #-----------------#\n",
    "        x = self.gbpool(x)\n",
    "        x = x.view(x.shape[0], -1)\n",
    "        x = self.linear(x)\n",
    "        return x"
   ]
  },
  {
   "cell_type": "code",
   "execution_count": 15,
   "id": "889cb042",
   "metadata": {
    "execution": {
     "iopub.execute_input": "2024-06-12T11:42:54.408592Z",
     "iopub.status.busy": "2024-06-12T11:42:54.407489Z",
     "iopub.status.idle": "2024-06-12T11:42:54.422445Z",
     "shell.execute_reply": "2024-06-12T11:42:54.421694Z"
    },
    "papermill": {
     "duration": 0.034933,
     "end_time": "2024-06-12T11:42:54.424532",
     "exception": false,
     "start_time": "2024-06-12T11:42:54.389599",
     "status": "completed"
    },
    "tags": []
   },
   "outputs": [],
   "source": [
    "model = SiameseNetwork()"
   ]
  },
  {
   "cell_type": "code",
   "execution_count": 16,
   "id": "0aa58573",
   "metadata": {
    "execution": {
     "iopub.execute_input": "2024-06-12T11:42:54.459107Z",
     "iopub.status.busy": "2024-06-12T11:42:54.458774Z",
     "iopub.status.idle": "2024-06-12T11:43:12.495512Z",
     "shell.execute_reply": "2024-06-12T11:43:12.494438Z"
    },
    "papermill": {
     "duration": 18.056881,
     "end_time": "2024-06-12T11:43:12.498076",
     "exception": false,
     "start_time": "2024-06-12T11:42:54.441195",
     "status": "completed"
    },
    "tags": []
   },
   "outputs": [],
   "source": [
    "# Tính toán mean và std trên train_data\n",
    "train_data = torch.stack([siamese_dataset[i][0] for i in range(len(siamese_dataset))])\n",
    "mean = train_data.mean()\n",
    "std = train_data.std()\n",
    "\n",
    "# Chuyển đổi kết quả sang kiểu tensor và đưa lên GPU (nếu có)\n",
    "device = torch.device('cuda:0' if torch.cuda.is_available() else 'cpu')\n",
    "mean = mean.to(device)\n",
    "std = std.to(device)\n",
    "\n",
    "# To CUDA (nếu bạn muốn đưa model lên GPU)\n",
    "model = model.to(device)"
   ]
  },
  {
   "cell_type": "code",
   "execution_count": 17,
   "id": "3b3a3c3d",
   "metadata": {
    "execution": {
     "iopub.execute_input": "2024-06-12T11:43:12.534334Z",
     "iopub.status.busy": "2024-06-12T11:43:12.533965Z",
     "iopub.status.idle": "2024-06-12T11:43:12.542397Z",
     "shell.execute_reply": "2024-06-12T11:43:12.541365Z"
    },
    "papermill": {
     "duration": 0.028716,
     "end_time": "2024-06-12T11:43:12.544424",
     "exception": false,
     "start_time": "2024-06-12T11:43:12.515708",
     "status": "completed"
    },
    "tags": []
   },
   "outputs": [],
   "source": [
    "def Train(model, criterion, optimizer, siamese_dataloader, device, mean, std):\n",
    "    model.train()\n",
    "    running_loss=0\n",
    "    num_batches=0\n",
    "    for i, data in enumerate(siamese_dataloader, 0):\n",
    "        img1, img2 , label = data\n",
    "        img1 = img1.to(device)\n",
    "        img2 = img2.to(device)\n",
    "        img1 = (img1 - mean)/std\n",
    "        img2 = (img2 - mean)/std\n",
    "        label = label.to(device)\n",
    "        optimizer.zero_grad()\n",
    "        output1 = model(img1)\n",
    "        output2 = model(img2)\n",
    "        distance_score = distance(output1, output2)\n",
    "        distance_score = distance_score.unsqueeze(dim=1)\n",
    "        ##---------Using constrastive loss------#\n",
    "        loss = criterion(output1, output2, label)\n",
    "        #---------Using casual loss------------#\n",
    "        #loss = criterion(distance_score, label)\n",
    "        loss.backward()\n",
    "        optimizer.step()\n",
    "        loss_detech = loss.detach().item()\n",
    "        running_loss += loss_detech\n",
    "        num_batches += 1\n",
    "        #---Compute average loss per batchsize----#\n",
    "        loss_bs = running_loss/num_batches\n",
    "    return loss_bs"
   ]
  },
  {
   "cell_type": "code",
   "execution_count": 18,
   "id": "3c8e56a8",
   "metadata": {
    "execution": {
     "iopub.execute_input": "2024-06-12T11:43:12.580032Z",
     "iopub.status.busy": "2024-06-12T11:43:12.579411Z",
     "iopub.status.idle": "2024-06-12T11:43:12.588266Z",
     "shell.execute_reply": "2024-06-12T11:43:12.587505Z"
    },
    "papermill": {
     "duration": 0.02853,
     "end_time": "2024-06-12T11:43:12.590118",
     "exception": false,
     "start_time": "2024-06-12T11:43:12.561588",
     "status": "completed"
    },
    "tags": []
   },
   "outputs": [],
   "source": [
    "siamese_dataloader_check = DataLoader(siamese_dataset, batch_size=1, shuffle=True)\n",
    "siamese_dataloader_test = DataLoader(siamese_dataset_test, batch_size=1, shuffle=False)\n",
    "def On_Testset(model, siamese_dataloader_test, mean, std, device):\n",
    "    correct = 0\n",
    "    total = 0\n",
    "    model.eval()\n",
    "    with torch.no_grad():\n",
    "        for i, data in enumerate(siamese_dataloader_test):\n",
    "            img1, img2, label = data\n",
    "            img1 = img1.to(device)\n",
    "            img2 = img2.to(device)\n",
    "            img1 = (img1 - mean)/std\n",
    "            img2 = (img2 - mean)/std\n",
    "            label = label.to(device)\n",
    "            output1 = model(img1)\n",
    "            output2 = model(img2)\n",
    "            #output1, output2 = model(img1, img2)\n",
    "            euclidean_distance = distance(output1, output2)\n",
    "            if (euclidean_distance < 0.5):\n",
    "              predictions = 0\n",
    "            else:\n",
    "              predictions = 1\n",
    "            #predictions = torch.lt(euclidean_distance, 0.5).tolist()\n",
    "            total += label.size(0)\n",
    "            correct += sum(np.array(predictions) == label.tolist())\n",
    "        accuracy = (correct / total)\n",
    "    return accuracy.item()"
   ]
  },
  {
   "cell_type": "code",
   "execution_count": 19,
   "id": "a62816e9",
   "metadata": {
    "execution": {
     "iopub.execute_input": "2024-06-12T11:43:12.624482Z",
     "iopub.status.busy": "2024-06-12T11:43:12.624228Z",
     "iopub.status.idle": "2024-06-12T20:16:34.084421Z",
     "shell.execute_reply": "2024-06-12T20:16:34.083373Z"
    },
    "papermill": {
     "duration": 30801.579523,
     "end_time": "2024-06-12T20:16:34.186412",
     "exception": false,
     "start_time": "2024-06-12T11:43:12.606889",
     "status": "completed"
    },
    "tags": []
   },
   "outputs": [
    {
     "name": "stdout",
     "output_type": "stream",
     "text": [
      "epoch= 1 \t time=0.56552 min \t loss=1.05714 \t Accuracy on Test set = 0.85341\n",
      "==> This is the best model with Accuracy on test set is 0.85341\n",
      "epoch= 2 \t time=1.08468 min \t loss=0.85075 \t Accuracy on Test set = 0.85051\n",
      "epoch= 3 \t time=1.60974 min \t loss=0.78980 \t Accuracy on Test set = 0.85051\n",
      "epoch= 4 \t time=2.11578 min \t loss=0.72366 \t Accuracy on Test set = 0.87663\n",
      "...\n", 
      "epoch= 871 \t time=446.74657 min \t loss=0.24153 \t Accuracy on Test set = 0.93469\n",
      "epoch= 872 \t time=447.25939 min \t loss=0.23816 \t Accuracy on Test set = 0.92017\n",
      "epoch= 873 \t time=447.78374 min \t loss=0.23588 \t Accuracy on Test set = 0.94485\n",
      "epoch= 874 \t time=448.29103 min \t loss=0.22445 \t Accuracy on Test set = 0.96807\n",
      "==> This is the best model with Accuracy on test set is 0.96807\n",
      "...\n",
      "epoch= 998 \t time=512.82846 min \t loss=0.22620 \t Accuracy on Test set = 0.92743\n",
      "epoch= 999 \t time=513.35179 min \t loss=0.21335 \t Accuracy on Test set = 0.94340\n",
      "Training completed. Accuracy on test best = 0.96807 in epoch 874\n"
     ]
    }
   ],
   "source": [
    "criterion = ContrastiveLoss()\n",
    "# criterion = nn.MSELoss()\n",
    "# criterion = nn.BCEWithLogitsLoss()\n",
    "lr = 0.001\n",
    "from torch.optim import Adam\n",
    "import time\n",
    "\n",
    "# Define the loss function and optimizer\n",
    "full_loss = []\n",
    "start = time.time()\n",
    "the_best_acc = 0\n",
    "best_epoch = 0\n",
    "acc_test = []\n",
    "\n",
    "# train the model\n",
    "for epoch in range(1, 1000):\n",
    "    optimizer = Adam(model.parameters(), lr=lr)\n",
    "    loss_bs = Train(model, criterion, optimizer, siamese_dataloader, device, mean, std)\n",
    "    acc = On_Testset(model, siamese_dataloader_test, mean, std, device)\n",
    "\n",
    "    #----Stored loss, accuracy per epoch-----#\n",
    "    acc_test.append(acc)\n",
    "    elapsed = (time.time() - start) / 60\n",
    "    full_loss.append(loss_bs)\n",
    "    print('epoch=', epoch, '\\t time={:.5f} min'.format(elapsed), '\\t loss={:.5f}'.format(loss_bs),\n",
    "          '\\t Accuracy on Test set = {:.5f}'.format(acc))\n",
    "    #---------Save the best model------------#\n",
    "    if acc > the_best_acc:\n",
    "        the_best_acc = acc\n",
    "        best_epoch = epoch\n",
    "        print(\"==> This is the best model with Accuracy on test set is {:.5f}\".format(acc))\n",
    "        # save if needed\n",
    "        data_path = '/kaggle/working/'\n",
    "        torch.save(model, data_path + 'best_model.pt')\n",
    "    torch.cuda.empty_cache()\n",
    "\n",
    "# Print the final statement with the best accuracy and corresponding epoch\n",
    "print(f\"Training completed. Accuracy on test best = {the_best_acc:.5f} in epoch {best_epoch}\")\n"
   ]
  }
 ],
 "metadata": {
  "kaggle": {
   "accelerator": "gpu",
   "dataSources": [
    {
     "datasetId": 5120718,
     "sourceId": 8565493,
     "sourceType": "datasetVersion"
    },
    {
     "datasetId": 5121332,
     "sourceId": 8566351,
     "sourceType": "datasetVersion"
    },
    {
     "datasetId": 5129220,
     "sourceId": 8577338,
     "sourceType": "datasetVersion"
    }
   ],
   "dockerImageVersionId": 30715,
   "isGpuEnabled": true,
   "isInternetEnabled": true,
   "language": "python",
   "sourceType": "notebook"
  },
  "kernelspec": {
   "display_name": "Python 3",
   "language": "python",
   "name": "python3"
  },
  "language_info": {
   "codemirror_mode": {
    "name": "ipython",
    "version": 3
   },
   "file_extension": ".py",
   "mimetype": "text/x-python",
   "name": "python",
   "nbconvert_exporter": "python",
   "pygments_lexer": "ipython3",
   "version": "3.10.13"
  },
  "papermill": {
   "default_parameters": {},
   "duration": 30866.889969,
   "end_time": "2024-06-12T20:16:37.726378",
   "environment_variables": {},
   "exception": null,
   "input_path": "__notebook__.ipynb",
   "output_path": "__notebook__.ipynb",
   "parameters": {},
   "start_time": "2024-06-12T11:42:10.836409",
   "version": "2.5.0"
  }
 },
 "nbformat": 4,
 "nbformat_minor": 5
}
